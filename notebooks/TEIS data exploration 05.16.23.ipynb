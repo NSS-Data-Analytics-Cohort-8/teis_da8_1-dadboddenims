{
 "cells": [
  {
   "cell_type": "code",
   "execution_count": 1,
   "id": "cfa44e25",
   "metadata": {},
   "outputs": [],
   "source": [
    "import pandas as pd"
   ]
  },
  {
   "cell_type": "code",
   "execution_count": 2,
   "id": "a45048e6",
   "metadata": {},
   "outputs": [],
   "source": [
    "import numpy as np"
   ]
  },
  {
   "cell_type": "code",
   "execution_count": 3,
   "id": "16270272",
   "metadata": {},
   "outputs": [],
   "source": [
    "import sqlalchemy"
   ]
  },
  {
   "cell_type": "code",
   "execution_count": 4,
   "id": "0a685ef0",
   "metadata": {},
   "outputs": [
    {
     "name": "stderr",
     "output_type": "stream",
     "text": [
      "C:\\Users\\brand\\anaconda3\\lib\\site-packages\\openpyxl\\worksheet\\_read_only.py:79: UserWarning: Unknown extension is not supported and will be removed\n",
      "  for idx, row in parser.parse():\n"
     ]
    }
   ],
   "source": [
    "teis_df = pd.read_excel('../data/teis_data.xlsx', sheet_name='All Children with IFSPs')"
   ]
  },
  {
   "cell_type": "code",
   "execution_count": 5,
   "id": "d4c278aa",
   "metadata": {},
   "outputs": [],
   "source": [
    "teis2_df = pd.read_excel('../data/teis_data.xlsx', sheet_name='Compiled_IFSP Teaming')"
   ]
  },
  {
   "cell_type": "code",
   "execution_count": 6,
   "id": "03f2543b",
   "metadata": {},
   "outputs": [],
   "source": [
    "# Count the number of unique child IDs on \"All Children with IFSPs\"\n",
    "num_children = teis_df['Child ID'].nunique()"
   ]
  },
  {
   "cell_type": "code",
   "execution_count": 7,
   "id": "27f1eff6",
   "metadata": {},
   "outputs": [
    {
     "name": "stdout",
     "output_type": "stream",
     "text": [
      "19623\n"
     ]
    }
   ],
   "source": [
    "print(num_children)"
   ]
  },
  {
   "cell_type": "code",
   "execution_count": 8,
   "id": "1caa26c8",
   "metadata": {},
   "outputs": [
    {
     "ename": "NameError",
     "evalue": "name 'CHILD_ID' is not defined",
     "output_type": "error",
     "traceback": [
      "\u001b[1;31m---------------------------------------------------------------------------\u001b[0m",
      "\u001b[1;31mNameError\u001b[0m                                 Traceback (most recent call last)",
      "Cell \u001b[1;32mIn[8], line 1\u001b[0m\n\u001b[1;32m----> 1\u001b[0m \u001b[43mCHILD_ID\u001b[49m\u001b[38;5;241m.\u001b[39mcount()\n",
      "\u001b[1;31mNameError\u001b[0m: name 'CHILD_ID' is not defined"
     ]
    }
   ],
   "source": [
    "CHILD_ID.count()"
   ]
  },
  {
   "cell_type": "code",
   "execution_count": null,
   "id": "281b4cc6",
   "metadata": {},
   "outputs": [],
   "source": [
    "# Count the number of unique child IDs on \"Compiled_IFSP Teaming\"\n",
    "num_children2 = teis2_df['CHILD_ID'].nunique()"
   ]
  },
  {
   "cell_type": "code",
   "execution_count": null,
   "id": "8d842287",
   "metadata": {},
   "outputs": [],
   "source": [
    "print(num_children2)"
   ]
  },
  {
   "cell_type": "code",
   "execution_count": null,
   "id": "44d5b7ca",
   "metadata": {},
   "outputs": [],
   "source": [
    "#percentage of children serviced \n",
    "percentage = (num_children2/ num_children) * 100\n",
    "print(\"Percentage: {:.2f}%\".format(percentage))"
   ]
  },
  {
   "cell_type": "code",
   "execution_count": null,
   "id": "c092222e",
   "metadata": {},
   "outputs": [],
   "source": [
    "# Group the DataFrame by 'Child ID' and 'IFSP Teaming ID Name', and count the occurrences\n",
    "grouped_df = teis2_df.groupby(['CHILD_ID', 'IFSP Teaming ID name']).size().reset_index(name='Count')\n",
    "\n",
    "# Print the grouped DataFrame\n",
    "grouped_df"
   ]
  },
  {
   "cell_type": "code",
   "execution_count": null,
   "id": "39dbe7ce",
   "metadata": {},
   "outputs": [],
   "source": [
    "# Filter the DataFrame to include only rows with IFSP Teaming ID Name as 'Co-visit'\n",
    "co_visit_df = teis2_df[teis2_df['IFSP Teaming ID name'] == 'Co-Visit']\n",
    "\n",
    "# Count the unique Child IDs receiving co-visits\n",
    "num_children_co_visits = co_visit_df['CHILD_ID'].nunique()\n",
    "\n",
    "# Count the unique Child IDs with an IFSP\n",
    "num_children_with_ifsp = teis2_df[teis2_df['IFSP Teaming ID name'].notnull()]['CHILD_ID'].nunique()\n",
    "\n",
    "# Calculate the rate of co-visits as a percentage\n",
    "co_visit_rate = (num_children_co_visits / num_children_with_ifsp) * 100"
   ]
  },
  {
   "cell_type": "code",
   "execution_count": null,
   "id": "acb405a6",
   "metadata": {},
   "outputs": [],
   "source": [
    "num_children_co_visits"
   ]
  },
  {
   "cell_type": "code",
   "execution_count": null,
   "id": "9cde12d5",
   "metadata": {},
   "outputs": [],
   "source": [
    "num_children_with_ifsp "
   ]
  },
  {
   "cell_type": "code",
   "execution_count": null,
   "id": "e9d6be48",
   "metadata": {},
   "outputs": [],
   "source": [
    "teis2_df['IFSP Teaming ID name'].value_counts()"
   ]
  },
  {
   "cell_type": "code",
   "execution_count": null,
   "id": "0f49c1c6",
   "metadata": {},
   "outputs": [],
   "source": [
    "teis2_df['ADD_USER'].value_counts()"
   ]
  },
  {
   "cell_type": "code",
   "execution_count": null,
   "id": "7e4bc47e",
   "metadata": {},
   "outputs": [],
   "source": [
    "teis2_df['Agency Name'].value_counts()"
   ]
  },
  {
   "cell_type": "code",
   "execution_count": null,
   "id": "d87c35f2",
   "metadata": {},
   "outputs": [],
   "source": [
    "teis2_df['Service Name'].value_counts()"
   ]
  },
  {
   "cell_type": "code",
   "execution_count": null,
   "id": "5b67f6c9",
   "metadata": {},
   "outputs": [],
   "source": [
    "teis2_df['SERVICE_SETTING'].value_counts()"
   ]
  },
  {
   "cell_type": "code",
   "execution_count": null,
   "id": "2dfaa4cd",
   "metadata": {},
   "outputs": [],
   "source": [
    "teis2_df['SERVICE DELIVERY'].value_counts()"
   ]
  },
  {
   "cell_type": "code",
   "execution_count": null,
   "id": "51c1f82b",
   "metadata": {},
   "outputs": [],
   "source": [
    "# Filter the DataFrame to include only rows with 'SERVICE DELIVERY' as 'Absence Due to Family'\n",
    "absence_family_df = teis2_df[teis2_df['SERVICE DELIVERY'] == 'Absence Due to Family']"
   ]
  },
  {
   "cell_type": "code",
   "execution_count": null,
   "id": "832281e6",
   "metadata": {},
   "outputs": [],
   "source": [
    "absence_family_df"
   ]
  },
  {
   "cell_type": "code",
   "execution_count": null,
   "id": "889107d3",
   "metadata": {},
   "outputs": [],
   "source": [
    "# NaN values in 'START_TIME' or 'END_TIME'\n",
    "null_service_times = teis2_df[teis2_df['START_TIME'].isna() | teis2_df['END_TIME'].isna()]"
   ]
  },
  {
   "cell_type": "code",
   "execution_count": null,
   "id": "4dfd1c60",
   "metadata": {},
   "outputs": [],
   "source": [
    "null_service_times"
   ]
  },
  {
   "cell_type": "code",
   "execution_count": null,
   "id": "f570b81d",
   "metadata": {},
   "outputs": [],
   "source": [
    "# Count the occurrences of NaN values in 'START_TIME' or 'END_TIME' to see if they match the null service times and they don't\n",
    "count_nan_values = null_service_times['START_TIME'].isna().sum() + null_service_times['END_TIME'].isna().sum()\n",
    "print(\"Number of NaN values in 'START_TIME' or 'END_TIME':\", count_nan_values)"
   ]
  },
  {
   "cell_type": "code",
   "execution_count": null,
   "id": "15ac1fb8",
   "metadata": {},
   "outputs": [],
   "source": []
  }
 ],
 "metadata": {
  "kernelspec": {
   "display_name": "Python 3 (ipykernel)",
   "language": "python",
   "name": "python3"
  },
  "language_info": {
   "codemirror_mode": {
    "name": "ipython",
    "version": 3
   },
   "file_extension": ".py",
   "mimetype": "text/x-python",
   "name": "python",
   "nbconvert_exporter": "python",
   "pygments_lexer": "ipython3",
   "version": "3.10.9"
  }
 },
 "nbformat": 4,
 "nbformat_minor": 5
}
