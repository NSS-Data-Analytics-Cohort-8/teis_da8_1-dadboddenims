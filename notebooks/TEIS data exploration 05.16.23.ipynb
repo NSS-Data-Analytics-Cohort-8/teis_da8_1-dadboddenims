{
 "cells": [
  {
   "cell_type": "code",
   "execution_count": 1,
   "id": "5f23819c",
   "metadata": {},
   "outputs": [],
   "source": [
    "import pandas as pd"
   ]
  },
  {
   "cell_type": "code",
   "execution_count": 2,
   "id": "a45048e6",
   "metadata": {},
   "outputs": [],
   "source": [
    "import numpy as np"
   ]
  },
  {
   "cell_type": "code",
   "execution_count": 3,
   "id": "16270272",
   "metadata": {},
   "outputs": [],
   "source": [
    "import sqlalchemy"
   ]
  },
  {
   "cell_type": "code",
   "execution_count": 4,
   "id": "0a685ef0",
   "metadata": {},
   "outputs": [
    {
     "name": "stderr",
     "output_type": "stream",
     "text": [
      "C:\\Users\\brand\\anaconda3\\lib\\site-packages\\openpyxl\\worksheet\\_read_only.py:79: UserWarning: Unknown extension is not supported and will be removed\n",
      "  for idx, row in parser.parse():\n"
     ]
    }
   ],
   "source": [
    "teis_df = pd.read_excel('../data/teis_data.xlsx', sheet_name='All Children with IFSPs')"
   ]
  },
  {
   "cell_type": "code",
   "execution_count": 5,
   "id": "d4c278aa",
   "metadata": {},
   "outputs": [],
   "source": [
    "teis2_df = pd.read_excel('../data/teis_data.xlsx', sheet_name='Compiled_IFSP Teaming')"
   ]
  },
  {
   "cell_type": "code",
   "execution_count": 10,
   "id": "03f2543b",
   "metadata": {},
   "outputs": [],
   "source": [
    "# Count the number of unique child IDs on \"All Children with IFSPs\"\n",
    "num_children = teis_df['Child ID'].nunique()"
   ]
  },
  {
   "cell_type": "code",
   "execution_count": 8,
   "id": "27f1eff6",
   "metadata": {},
   "outputs": [
    {
     "name": "stdout",
     "output_type": "stream",
     "text": [
      "19623\n"
     ]
    }
   ],
   "source": [
    "print(num_children)"
   ]
  },
  {
   "cell_type": "code",
   "execution_count": 32,
   "id": "1caa26c8",
   "metadata": {},
   "outputs": [
    {
     "ename": "NameError",
     "evalue": "name 'CHILD_ID' is not defined",
     "output_type": "error",
     "traceback": [
      "\u001b[1;31m---------------------------------------------------------------------------\u001b[0m",
      "\u001b[1;31mNameError\u001b[0m                                 Traceback (most recent call last)",
      "Cell \u001b[1;32mIn[32], line 1\u001b[0m\n\u001b[1;32m----> 1\u001b[0m \u001b[43mCHILD_ID\u001b[49m\u001b[38;5;241m.\u001b[39mcount()\n",
      "\u001b[1;31mNameError\u001b[0m: name 'CHILD_ID' is not defined"
     ]
    }
   ],
   "source": [
    "CHILD_ID.count()"
   ]
  },
  {
   "cell_type": "code",
   "execution_count": 15,
   "id": "281b4cc6",
   "metadata": {},
   "outputs": [],
   "source": [
    "# Count the number of unique child IDs on \"Compiled_IFSP Teaming\"\n",
    "num_children2 = teis2_df['CHILD_ID'].nunique()"
   ]
  },
  {
   "cell_type": "code",
   "execution_count": 16,
   "id": "8d842287",
   "metadata": {},
   "outputs": [
    {
     "name": "stdout",
     "output_type": "stream",
     "text": [
      "4789\n"
     ]
    }
   ],
   "source": [
    "print(num_children2)"
   ]
  },
  {
   "cell_type": "code",
   "execution_count": 19,
   "id": "44d5b7ca",
   "metadata": {},
   "outputs": [
    {
     "name": "stdout",
     "output_type": "stream",
     "text": [
      "Percentage: 24.41%\n"
     ]
    }
   ],
   "source": [
    "#percentage of children serviced \n",
    "percentage = (num_children2/ num_children) * 100\n",
    "print(\"Percentage: {:.2f}%\".format(percentage))"
   ]
  },
  {
   "cell_type": "code",
   "execution_count": 23,
   "id": "c092222e",
   "metadata": {},
   "outputs": [
    {
     "data": {
      "text/html": [
       "<div>\n",
       "<style scoped>\n",
       "    .dataframe tbody tr th:only-of-type {\n",
       "        vertical-align: middle;\n",
       "    }\n",
       "\n",
       "    .dataframe tbody tr th {\n",
       "        vertical-align: top;\n",
       "    }\n",
       "\n",
       "    .dataframe thead th {\n",
       "        text-align: right;\n",
       "    }\n",
       "</style>\n",
       "<table border=\"1\" class=\"dataframe\">\n",
       "  <thead>\n",
       "    <tr style=\"text-align: right;\">\n",
       "      <th></th>\n",
       "      <th>CHILD_ID</th>\n",
       "      <th>IFSP Teaming ID name</th>\n",
       "      <th>Count</th>\n",
       "    </tr>\n",
       "  </thead>\n",
       "  <tbody>\n",
       "    <tr>\n",
       "      <th>0</th>\n",
       "      <td>457136</td>\n",
       "      <td>Co-Visit</td>\n",
       "      <td>1</td>\n",
       "    </tr>\n",
       "    <tr>\n",
       "      <th>1</th>\n",
       "      <td>457136</td>\n",
       "      <td>IEP Meeting</td>\n",
       "      <td>1</td>\n",
       "    </tr>\n",
       "    <tr>\n",
       "      <th>2</th>\n",
       "      <td>457585</td>\n",
       "      <td>IEP Meeting</td>\n",
       "      <td>1</td>\n",
       "    </tr>\n",
       "    <tr>\n",
       "      <th>3</th>\n",
       "      <td>457852</td>\n",
       "      <td>IEP Meeting</td>\n",
       "      <td>1</td>\n",
       "    </tr>\n",
       "    <tr>\n",
       "      <th>4</th>\n",
       "      <td>458051</td>\n",
       "      <td>IFSP Meeting</td>\n",
       "      <td>1</td>\n",
       "    </tr>\n",
       "    <tr>\n",
       "      <th>...</th>\n",
       "      <td>...</td>\n",
       "      <td>...</td>\n",
       "      <td>...</td>\n",
       "    </tr>\n",
       "    <tr>\n",
       "      <th>5838</th>\n",
       "      <td>541337</td>\n",
       "      <td>Co-Visit</td>\n",
       "      <td>1</td>\n",
       "    </tr>\n",
       "    <tr>\n",
       "      <th>5839</th>\n",
       "      <td>541511</td>\n",
       "      <td>Co-Visit</td>\n",
       "      <td>1</td>\n",
       "    </tr>\n",
       "    <tr>\n",
       "      <th>5840</th>\n",
       "      <td>541890</td>\n",
       "      <td>Co-Visit</td>\n",
       "      <td>1</td>\n",
       "    </tr>\n",
       "    <tr>\n",
       "      <th>5841</th>\n",
       "      <td>542077</td>\n",
       "      <td>IFSP Meeting</td>\n",
       "      <td>1</td>\n",
       "    </tr>\n",
       "    <tr>\n",
       "      <th>5842</th>\n",
       "      <td>542122</td>\n",
       "      <td>Co-Visit</td>\n",
       "      <td>1</td>\n",
       "    </tr>\n",
       "  </tbody>\n",
       "</table>\n",
       "<p>5843 rows × 3 columns</p>\n",
       "</div>"
      ],
      "text/plain": [
       "      CHILD_ID IFSP Teaming ID name  Count\n",
       "0       457136             Co-Visit      1\n",
       "1       457136          IEP Meeting      1\n",
       "2       457585          IEP Meeting      1\n",
       "3       457852          IEP Meeting      1\n",
       "4       458051         IFSP Meeting      1\n",
       "...        ...                  ...    ...\n",
       "5838    541337             Co-Visit      1\n",
       "5839    541511             Co-Visit      1\n",
       "5840    541890             Co-Visit      1\n",
       "5841    542077         IFSP Meeting      1\n",
       "5842    542122             Co-Visit      1\n",
       "\n",
       "[5843 rows x 3 columns]"
      ]
     },
     "execution_count": 23,
     "metadata": {},
     "output_type": "execute_result"
    }
   ],
   "source": [
    "# Group the DataFrame by 'Child ID' and 'IFSP Teaming ID Name', and count the occurrences\n",
    "grouped_df = teis2_df.groupby(['CHILD_ID', 'IFSP Teaming ID name']).size().reset_index(name='Count')\n",
    "\n",
    "# Print the grouped DataFrame\n",
    "grouped_df"
   ]
  },
  {
   "cell_type": "code",
   "execution_count": 28,
   "id": "39dbe7ce",
   "metadata": {},
   "outputs": [],
   "source": [
    "# Filter the DataFrame to include only rows with IFSP Teaming ID Name as 'Co-visit'\n",
    "co_visit_df = teis2_df[teis2_df['IFSP Teaming ID name'] == 'Co-Visit']\n",
    "\n",
    "# Count the unique Child IDs receiving co-visits\n",
    "num_children_co_visits = co_visit_df['CHILD_ID'].nunique()\n",
    "\n",
    "# Count the unique Child IDs with an IFSP\n",
    "num_children_with_ifsp = teis2_df[teis2_df['IFSP Teaming ID name'].notnull()]['CHILD_ID'].nunique()\n",
    "\n",
    "# Calculate the rate of co-visits as a percentage\n",
    "co_visit_rate = (num_children_co_visits / num_children_with_ifsp) * 100"
   ]
  },
  {
   "cell_type": "code",
   "execution_count": 30,
   "id": "acb405a6",
   "metadata": {},
   "outputs": [
    {
     "data": {
      "text/plain": [
       "1645"
      ]
     },
     "execution_count": 30,
     "metadata": {},
     "output_type": "execute_result"
    }
   ],
   "source": [
    "num_children_co_visits"
   ]
  },
  {
   "cell_type": "code",
   "execution_count": 31,
   "id": "9cde12d5",
   "metadata": {},
   "outputs": [
    {
     "data": {
      "text/plain": [
       "4789"
      ]
     },
     "execution_count": 31,
     "metadata": {},
     "output_type": "execute_result"
    }
   ],
   "source": [
    "num_children_with_ifsp "
   ]
  },
  {
   "cell_type": "code",
   "execution_count": 33,
   "id": "e9d6be48",
   "metadata": {},
   "outputs": [
    {
     "data": {
      "text/plain": [
       "IFSP Meeting    4820\n",
       "Co-Visit        4091\n",
       "IEP Meeting      632\n",
       "Name: IFSP Teaming ID name, dtype: int64"
      ]
     },
     "execution_count": 33,
     "metadata": {},
     "output_type": "execute_result"
    }
   ],
   "source": [
    "teis2_df['IFSP Teaming ID name'].value_counts()"
   ]
  },
  {
   "cell_type": "code",
   "execution_count": 34,
   "id": "0f49c1c6",
   "metadata": {},
   "outputs": [
    {
     "data": {
      "text/plain": [
       "ROGERSKALEY             225\n",
       "REDDMISSY               199\n",
       "PULLIAMAMY              140\n",
       "OLIVERCIARA             129\n",
       "HARRISKATE              118\n",
       "                       ... \n",
       "HAYKRYSTALFTS             1\n",
       "HUNTTIERENEY              1\n",
       "TREADWAYCHRISTYWTCCD      1\n",
       "THORNBURYRACHEL           1\n",
       "SPRADLINGSARAH            1\n",
       "Name: ADD_USER, Length: 529, dtype: int64"
      ]
     },
     "execution_count": 34,
     "metadata": {},
     "output_type": "execute_result"
    }
   ],
   "source": [
    "teis2_df['ADD_USER'].value_counts()"
   ]
  },
  {
   "cell_type": "code",
   "execution_count": 35,
   "id": "7e4bc47e",
   "metadata": {},
   "outputs": [
    {
     "data": {
      "text/plain": [
       "LeBonheur EI & Dev (LEAD) (vendor)                   924\n",
       "Emory Valley Center                                  730\n",
       "Siskin Children's Institute (EIRA)                   685\n",
       "Physical Therapy Services, PA (EIRA)                 589\n",
       "LeBonheur EI & Dev (LEAD) (EIRA)                     505\n",
       "                                                    ... \n",
       "Words for Life Speech & Language Center, LLC           1\n",
       "Jeannine Couvertiere, SLP Services                     1\n",
       "Choice Medical Inc / Choice Orthotics Prosthetics      1\n",
       "Blount Memorial Hospital                               1\n",
       "Therapy.Works LLC                                      1\n",
       "Name: Agency Name, Length: 85, dtype: int64"
      ]
     },
     "execution_count": 35,
     "metadata": {},
     "output_type": "execute_result"
    }
   ],
   "source": [
    "teis2_df['Agency Name'].value_counts()"
   ]
  },
  {
   "cell_type": "code",
   "execution_count": 36,
   "id": "d87c35f2",
   "metadata": {},
   "outputs": [
    {
     "data": {
      "text/plain": [
       "Dev. Therapy Prof - Home/Community               7671\n",
       "Occupational Therapy                              515\n",
       "Speech Therapy                                    448\n",
       "Physical Therapy                                  316\n",
       "Dev. Therapy Center-Based                         154\n",
       "Dev. Therapy - BCBA                               144\n",
       "Eval/Assess - Developmental                        72\n",
       "Vision Services                                    63\n",
       "Physical Therapy Assistant                         32\n",
       "Evaluation - Occupational Therapy                  26\n",
       "IFSP Team Member Participation (Virtual)           20\n",
       "IFSP Team Member Participation (Face-To-Face)      20\n",
       "Evaluation - Speech Therapy                        16\n",
       "Evaluation - Physical Therapy                      15\n",
       "Dev. Therapy – Registered Behavior Tech (RBT)      11\n",
       "Dev. Therapy - Behavior                             5\n",
       "Consultation – Developmental Therapy                4\n",
       "Assistive Technology                                3\n",
       "Evaluation - BCBA Developmental Therapy             3\n",
       "Occupational Therapy Assistant                      2\n",
       "Dev. Therapy ParaProf - Home/Community              1\n",
       "Speech Therapy-Group                                1\n",
       "Evaluation/Assessment - Vision                      1\n",
       "Name: Service Name, dtype: int64"
      ]
     },
     "execution_count": 36,
     "metadata": {},
     "output_type": "execute_result"
    }
   ],
   "source": [
    "teis2_df['Service Name'].value_counts()"
   ]
  },
  {
   "cell_type": "code",
   "execution_count": 37,
   "id": "5b67f6c9",
   "metadata": {},
   "outputs": [
    {
     "data": {
      "text/plain": [
       "Home               4010\n",
       "Telehealth         3604\n",
       "Community-based    1291\n",
       "Other               628\n",
       "Name: SERVICE_SETTING, dtype: int64"
      ]
     },
     "execution_count": 37,
     "metadata": {},
     "output_type": "execute_result"
    }
   ],
   "source": [
    "teis2_df['SERVICE_SETTING'].value_counts()"
   ]
  },
  {
   "cell_type": "code",
   "execution_count": 39,
   "id": "2dfaa4cd",
   "metadata": {},
   "outputs": [
    {
     "data": {
      "text/plain": [
       "Service Delivered          9532\n",
       "Absence Due to Family         6\n",
       "Absence Due to Provider       3\n",
       "Family No Show                2\n",
       "Name: SERVICE DELIVERY, dtype: int64"
      ]
     },
     "execution_count": 39,
     "metadata": {},
     "output_type": "execute_result"
    }
   ],
   "source": [
    "teis2_df['SERVICE DELIVERY'].value_counts()"
   ]
  },
  {
   "cell_type": "code",
   "execution_count": 40,
   "id": "51c1f82b",
   "metadata": {},
   "outputs": [],
   "source": [
    "# Filter the DataFrame to include only rows with 'SERVICE DELIVERY' as 'Absence Due to Family'\n",
    "absence_family_df = teis2_df[teis2_df['SERVICE DELIVERY'] == 'Absence Due to Family']"
   ]
  },
  {
   "cell_type": "code",
   "execution_count": 41,
   "id": "832281e6",
   "metadata": {},
   "outputs": [
    {
     "data": {
      "text/html": [
       "<div>\n",
       "<style scoped>\n",
       "    .dataframe tbody tr th:only-of-type {\n",
       "        vertical-align: middle;\n",
       "    }\n",
       "\n",
       "    .dataframe tbody tr th {\n",
       "        vertical-align: top;\n",
       "    }\n",
       "\n",
       "    .dataframe thead th {\n",
       "        text-align: right;\n",
       "    }\n",
       "</style>\n",
       "<table border=\"1\" class=\"dataframe\">\n",
       "  <thead>\n",
       "    <tr style=\"text-align: right;\">\n",
       "      <th></th>\n",
       "      <th>CHILD_ID</th>\n",
       "      <th>SERVICE_DATE</th>\n",
       "      <th>START_TIME</th>\n",
       "      <th>END_TIME</th>\n",
       "      <th>SERVICE_SETTING</th>\n",
       "      <th>SERVICE DELIVERY</th>\n",
       "      <th>ADD_USER</th>\n",
       "      <th>ADD_DATE</th>\n",
       "      <th>IFSP Teaming ID name</th>\n",
       "      <th>Agency Name</th>\n",
       "      <th>Agency Type</th>\n",
       "      <th>Service Name</th>\n",
       "    </tr>\n",
       "  </thead>\n",
       "  <tbody>\n",
       "    <tr>\n",
       "      <th>238</th>\n",
       "      <td>469545</td>\n",
       "      <td>2022-03-22</td>\n",
       "      <td>NaN</td>\n",
       "      <td>NaN</td>\n",
       "      <td>NaN</td>\n",
       "      <td>Absence Due to Family</td>\n",
       "      <td>PARKERDIANA1</td>\n",
       "      <td>2022-03-24 21:20:38</td>\n",
       "      <td>IFSP Meeting</td>\n",
       "      <td>Siskin Children's Institute (EIRA)</td>\n",
       "      <td>EIRA</td>\n",
       "      <td>Dev. Therapy Prof - Home/Community</td>\n",
       "    </tr>\n",
       "    <tr>\n",
       "      <th>3774</th>\n",
       "      <td>500266</td>\n",
       "      <td>2022-02-18</td>\n",
       "      <td>NaN</td>\n",
       "      <td>NaN</td>\n",
       "      <td>NaN</td>\n",
       "      <td>Absence Due to Family</td>\n",
       "      <td>CARDENASJESSICA1</td>\n",
       "      <td>2022-02-22 10:50:57</td>\n",
       "      <td>IEP Meeting</td>\n",
       "      <td>Shelby Residential &amp; Voc Svcs(SRVS) (EIRA)</td>\n",
       "      <td>EIRA</td>\n",
       "      <td>Dev. Therapy Prof - Home/Community</td>\n",
       "    </tr>\n",
       "    <tr>\n",
       "      <th>7474</th>\n",
       "      <td>518376</td>\n",
       "      <td>2022-12-27</td>\n",
       "      <td>NaN</td>\n",
       "      <td>NaN</td>\n",
       "      <td>NaN</td>\n",
       "      <td>Absence Due to Family</td>\n",
       "      <td>LAVOLLAMY1</td>\n",
       "      <td>2022-12-29 16:58:06</td>\n",
       "      <td>IFSP Meeting</td>\n",
       "      <td>Emory Valley Center</td>\n",
       "      <td>EIRA</td>\n",
       "      <td>Dev. Therapy Prof - Home/Community</td>\n",
       "    </tr>\n",
       "    <tr>\n",
       "      <th>7739</th>\n",
       "      <td>520343</td>\n",
       "      <td>2022-03-24</td>\n",
       "      <td>NaN</td>\n",
       "      <td>NaN</td>\n",
       "      <td>NaN</td>\n",
       "      <td>Absence Due to Family</td>\n",
       "      <td>POWERSCARRIE</td>\n",
       "      <td>2022-03-24 15:41:27</td>\n",
       "      <td>IFSP Meeting</td>\n",
       "      <td>Infant Stimulation Program - UT Martin</td>\n",
       "      <td>EIRA</td>\n",
       "      <td>Dev. Therapy Prof - Home/Community</td>\n",
       "    </tr>\n",
       "    <tr>\n",
       "      <th>7846</th>\n",
       "      <td>521207</td>\n",
       "      <td>2022-07-20</td>\n",
       "      <td>NaN</td>\n",
       "      <td>NaN</td>\n",
       "      <td>NaN</td>\n",
       "      <td>Absence Due to Family</td>\n",
       "      <td>REEDKATIA1</td>\n",
       "      <td>2022-07-26 03:46:15</td>\n",
       "      <td>Co-Visit</td>\n",
       "      <td>Rehab At Your Place (EIRA)</td>\n",
       "      <td>EIRA</td>\n",
       "      <td>Dev. Therapy Prof - Home/Community</td>\n",
       "    </tr>\n",
       "    <tr>\n",
       "      <th>8546</th>\n",
       "      <td>526490</td>\n",
       "      <td>2022-06-29</td>\n",
       "      <td>NaN</td>\n",
       "      <td>NaN</td>\n",
       "      <td>NaN</td>\n",
       "      <td>Absence Due to Family</td>\n",
       "      <td>HOYOSSANDRA</td>\n",
       "      <td>2022-07-06 13:18:45</td>\n",
       "      <td>IEP Meeting</td>\n",
       "      <td>LTVEC</td>\n",
       "      <td>EIRA</td>\n",
       "      <td>Dev. Therapy Prof - Home/Community</td>\n",
       "    </tr>\n",
       "  </tbody>\n",
       "</table>\n",
       "</div>"
      ],
      "text/plain": [
       "      CHILD_ID SERVICE_DATE START_TIME END_TIME SERVICE_SETTING  \\\n",
       "238     469545   2022-03-22        NaN      NaN             NaN   \n",
       "3774    500266   2022-02-18        NaN      NaN             NaN   \n",
       "7474    518376   2022-12-27        NaN      NaN             NaN   \n",
       "7739    520343   2022-03-24        NaN      NaN             NaN   \n",
       "7846    521207   2022-07-20        NaN      NaN             NaN   \n",
       "8546    526490   2022-06-29        NaN      NaN             NaN   \n",
       "\n",
       "           SERVICE DELIVERY          ADD_USER            ADD_DATE  \\\n",
       "238   Absence Due to Family      PARKERDIANA1 2022-03-24 21:20:38   \n",
       "3774  Absence Due to Family  CARDENASJESSICA1 2022-02-22 10:50:57   \n",
       "7474  Absence Due to Family        LAVOLLAMY1 2022-12-29 16:58:06   \n",
       "7739  Absence Due to Family      POWERSCARRIE 2022-03-24 15:41:27   \n",
       "7846  Absence Due to Family        REEDKATIA1 2022-07-26 03:46:15   \n",
       "8546  Absence Due to Family       HOYOSSANDRA 2022-07-06 13:18:45   \n",
       "\n",
       "     IFSP Teaming ID name                                 Agency Name  \\\n",
       "238          IFSP Meeting          Siskin Children's Institute (EIRA)   \n",
       "3774          IEP Meeting  Shelby Residential & Voc Svcs(SRVS) (EIRA)   \n",
       "7474         IFSP Meeting                         Emory Valley Center   \n",
       "7739         IFSP Meeting      Infant Stimulation Program - UT Martin   \n",
       "7846             Co-Visit                  Rehab At Your Place (EIRA)   \n",
       "8546          IEP Meeting                                       LTVEC   \n",
       "\n",
       "     Agency Type                        Service Name  \n",
       "238         EIRA  Dev. Therapy Prof - Home/Community  \n",
       "3774        EIRA  Dev. Therapy Prof - Home/Community  \n",
       "7474        EIRA  Dev. Therapy Prof - Home/Community  \n",
       "7739        EIRA  Dev. Therapy Prof - Home/Community  \n",
       "7846        EIRA  Dev. Therapy Prof - Home/Community  \n",
       "8546        EIRA  Dev. Therapy Prof - Home/Community  "
      ]
     },
     "execution_count": 41,
     "metadata": {},
     "output_type": "execute_result"
    }
   ],
   "source": [
    "absence_family_df"
   ]
  },
  {
   "cell_type": "code",
   "execution_count": 45,
   "id": "889107d3",
   "metadata": {},
   "outputs": [],
   "source": [
    "# NaN values in 'START_TIME' or 'END_TIME'\n",
    "null_service_times = teis2_df[teis2_df['START_TIME'].isna() | teis2_df['END_TIME'].isna()]"
   ]
  },
  {
   "cell_type": "code",
   "execution_count": 47,
   "id": "4dfd1c60",
   "metadata": {},
   "outputs": [
    {
     "data": {
      "text/html": [
       "<div>\n",
       "<style scoped>\n",
       "    .dataframe tbody tr th:only-of-type {\n",
       "        vertical-align: middle;\n",
       "    }\n",
       "\n",
       "    .dataframe tbody tr th {\n",
       "        vertical-align: top;\n",
       "    }\n",
       "\n",
       "    .dataframe thead th {\n",
       "        text-align: right;\n",
       "    }\n",
       "</style>\n",
       "<table border=\"1\" class=\"dataframe\">\n",
       "  <thead>\n",
       "    <tr style=\"text-align: right;\">\n",
       "      <th></th>\n",
       "      <th>CHILD_ID</th>\n",
       "      <th>SERVICE_DATE</th>\n",
       "      <th>START_TIME</th>\n",
       "      <th>END_TIME</th>\n",
       "      <th>SERVICE_SETTING</th>\n",
       "      <th>SERVICE DELIVERY</th>\n",
       "      <th>ADD_USER</th>\n",
       "      <th>ADD_DATE</th>\n",
       "      <th>IFSP Teaming ID name</th>\n",
       "      <th>Agency Name</th>\n",
       "      <th>Agency Type</th>\n",
       "      <th>Service Name</th>\n",
       "    </tr>\n",
       "  </thead>\n",
       "  <tbody>\n",
       "    <tr>\n",
       "      <th>238</th>\n",
       "      <td>469545</td>\n",
       "      <td>2022-03-22</td>\n",
       "      <td>NaN</td>\n",
       "      <td>NaN</td>\n",
       "      <td>NaN</td>\n",
       "      <td>Absence Due to Family</td>\n",
       "      <td>PARKERDIANA1</td>\n",
       "      <td>2022-03-24 21:20:38</td>\n",
       "      <td>IFSP Meeting</td>\n",
       "      <td>Siskin Children's Institute (EIRA)</td>\n",
       "      <td>EIRA</td>\n",
       "      <td>Dev. Therapy Prof - Home/Community</td>\n",
       "    </tr>\n",
       "    <tr>\n",
       "      <th>1223</th>\n",
       "      <td>481717</td>\n",
       "      <td>2022-05-20</td>\n",
       "      <td>NaN</td>\n",
       "      <td>NaN</td>\n",
       "      <td>NaN</td>\n",
       "      <td>Family No Show</td>\n",
       "      <td>SANDERSBROOKE</td>\n",
       "      <td>2022-05-21 01:58:09</td>\n",
       "      <td>IFSP Meeting</td>\n",
       "      <td>Physical Therapy Services, PA (EIRA)</td>\n",
       "      <td>EIRA</td>\n",
       "      <td>Dev. Therapy Prof - Home/Community</td>\n",
       "    </tr>\n",
       "    <tr>\n",
       "      <th>3774</th>\n",
       "      <td>500266</td>\n",
       "      <td>2022-02-18</td>\n",
       "      <td>NaN</td>\n",
       "      <td>NaN</td>\n",
       "      <td>NaN</td>\n",
       "      <td>Absence Due to Family</td>\n",
       "      <td>CARDENASJESSICA1</td>\n",
       "      <td>2022-02-22 10:50:57</td>\n",
       "      <td>IEP Meeting</td>\n",
       "      <td>Shelby Residential &amp; Voc Svcs(SRVS) (EIRA)</td>\n",
       "      <td>EIRA</td>\n",
       "      <td>Dev. Therapy Prof - Home/Community</td>\n",
       "    </tr>\n",
       "    <tr>\n",
       "      <th>6054</th>\n",
       "      <td>511399</td>\n",
       "      <td>2022-10-17</td>\n",
       "      <td>NaN</td>\n",
       "      <td>NaN</td>\n",
       "      <td>NaN</td>\n",
       "      <td>Absence Due to Provider</td>\n",
       "      <td>CONWAYPEGGY</td>\n",
       "      <td>2022-10-17 13:44:23</td>\n",
       "      <td>Co-Visit</td>\n",
       "      <td>Emory Valley Center</td>\n",
       "      <td>EIRA</td>\n",
       "      <td>Dev. Therapy Prof - Home/Community</td>\n",
       "    </tr>\n",
       "    <tr>\n",
       "      <th>6115</th>\n",
       "      <td>511559</td>\n",
       "      <td>2022-07-04</td>\n",
       "      <td>NaN</td>\n",
       "      <td>NaN</td>\n",
       "      <td>Home</td>\n",
       "      <td>Absence Due to Provider</td>\n",
       "      <td>REDDMISSY</td>\n",
       "      <td>2023-01-17 22:28:51</td>\n",
       "      <td>Co-Visit</td>\n",
       "      <td>LeBonheur EI &amp; Dev (LEAD) (vendor)</td>\n",
       "      <td>Independent</td>\n",
       "      <td>Occupational Therapy</td>\n",
       "    </tr>\n",
       "    <tr>\n",
       "      <th>6718</th>\n",
       "      <td>513855</td>\n",
       "      <td>2022-05-30</td>\n",
       "      <td>NaN</td>\n",
       "      <td>NaN</td>\n",
       "      <td>NaN</td>\n",
       "      <td>Absence Due to Provider</td>\n",
       "      <td>CONWAYPEGGY</td>\n",
       "      <td>2022-05-30 15:44:21</td>\n",
       "      <td>Co-Visit</td>\n",
       "      <td>Emory Valley Center</td>\n",
       "      <td>EIRA</td>\n",
       "      <td>Dev. Therapy Prof - Home/Community</td>\n",
       "    </tr>\n",
       "    <tr>\n",
       "      <th>7474</th>\n",
       "      <td>518376</td>\n",
       "      <td>2022-12-27</td>\n",
       "      <td>NaN</td>\n",
       "      <td>NaN</td>\n",
       "      <td>NaN</td>\n",
       "      <td>Absence Due to Family</td>\n",
       "      <td>LAVOLLAMY1</td>\n",
       "      <td>2022-12-29 16:58:06</td>\n",
       "      <td>IFSP Meeting</td>\n",
       "      <td>Emory Valley Center</td>\n",
       "      <td>EIRA</td>\n",
       "      <td>Dev. Therapy Prof - Home/Community</td>\n",
       "    </tr>\n",
       "    <tr>\n",
       "      <th>7739</th>\n",
       "      <td>520343</td>\n",
       "      <td>2022-03-24</td>\n",
       "      <td>NaN</td>\n",
       "      <td>NaN</td>\n",
       "      <td>NaN</td>\n",
       "      <td>Absence Due to Family</td>\n",
       "      <td>POWERSCARRIE</td>\n",
       "      <td>2022-03-24 15:41:27</td>\n",
       "      <td>IFSP Meeting</td>\n",
       "      <td>Infant Stimulation Program - UT Martin</td>\n",
       "      <td>EIRA</td>\n",
       "      <td>Dev. Therapy Prof - Home/Community</td>\n",
       "    </tr>\n",
       "    <tr>\n",
       "      <th>7846</th>\n",
       "      <td>521207</td>\n",
       "      <td>2022-07-20</td>\n",
       "      <td>NaN</td>\n",
       "      <td>NaN</td>\n",
       "      <td>NaN</td>\n",
       "      <td>Absence Due to Family</td>\n",
       "      <td>REEDKATIA1</td>\n",
       "      <td>2022-07-26 03:46:15</td>\n",
       "      <td>Co-Visit</td>\n",
       "      <td>Rehab At Your Place (EIRA)</td>\n",
       "      <td>EIRA</td>\n",
       "      <td>Dev. Therapy Prof - Home/Community</td>\n",
       "    </tr>\n",
       "    <tr>\n",
       "      <th>8546</th>\n",
       "      <td>526490</td>\n",
       "      <td>2022-06-29</td>\n",
       "      <td>NaN</td>\n",
       "      <td>NaN</td>\n",
       "      <td>NaN</td>\n",
       "      <td>Absence Due to Family</td>\n",
       "      <td>HOYOSSANDRA</td>\n",
       "      <td>2022-07-06 13:18:45</td>\n",
       "      <td>IEP Meeting</td>\n",
       "      <td>LTVEC</td>\n",
       "      <td>EIRA</td>\n",
       "      <td>Dev. Therapy Prof - Home/Community</td>\n",
       "    </tr>\n",
       "    <tr>\n",
       "      <th>8637</th>\n",
       "      <td>527044</td>\n",
       "      <td>2022-11-29</td>\n",
       "      <td>NaN</td>\n",
       "      <td>NaN</td>\n",
       "      <td>NaN</td>\n",
       "      <td>Family No Show</td>\n",
       "      <td>HAMILTONHANNAH</td>\n",
       "      <td>2022-11-29 15:49:04</td>\n",
       "      <td>IEP Meeting</td>\n",
       "      <td>LeBonheur EI &amp; Dev (LEAD) (EIRA)</td>\n",
       "      <td>EIRA</td>\n",
       "      <td>Dev. Therapy Prof - Home/Community</td>\n",
       "    </tr>\n",
       "  </tbody>\n",
       "</table>\n",
       "</div>"
      ],
      "text/plain": [
       "      CHILD_ID SERVICE_DATE START_TIME END_TIME SERVICE_SETTING  \\\n",
       "238     469545   2022-03-22        NaN      NaN             NaN   \n",
       "1223    481717   2022-05-20        NaN      NaN             NaN   \n",
       "3774    500266   2022-02-18        NaN      NaN             NaN   \n",
       "6054    511399   2022-10-17        NaN      NaN             NaN   \n",
       "6115    511559   2022-07-04        NaN      NaN            Home   \n",
       "6718    513855   2022-05-30        NaN      NaN             NaN   \n",
       "7474    518376   2022-12-27        NaN      NaN             NaN   \n",
       "7739    520343   2022-03-24        NaN      NaN             NaN   \n",
       "7846    521207   2022-07-20        NaN      NaN             NaN   \n",
       "8546    526490   2022-06-29        NaN      NaN             NaN   \n",
       "8637    527044   2022-11-29        NaN      NaN             NaN   \n",
       "\n",
       "             SERVICE DELIVERY          ADD_USER            ADD_DATE  \\\n",
       "238     Absence Due to Family      PARKERDIANA1 2022-03-24 21:20:38   \n",
       "1223           Family No Show     SANDERSBROOKE 2022-05-21 01:58:09   \n",
       "3774    Absence Due to Family  CARDENASJESSICA1 2022-02-22 10:50:57   \n",
       "6054  Absence Due to Provider       CONWAYPEGGY 2022-10-17 13:44:23   \n",
       "6115  Absence Due to Provider         REDDMISSY 2023-01-17 22:28:51   \n",
       "6718  Absence Due to Provider       CONWAYPEGGY 2022-05-30 15:44:21   \n",
       "7474    Absence Due to Family        LAVOLLAMY1 2022-12-29 16:58:06   \n",
       "7739    Absence Due to Family      POWERSCARRIE 2022-03-24 15:41:27   \n",
       "7846    Absence Due to Family        REEDKATIA1 2022-07-26 03:46:15   \n",
       "8546    Absence Due to Family       HOYOSSANDRA 2022-07-06 13:18:45   \n",
       "8637           Family No Show    HAMILTONHANNAH 2022-11-29 15:49:04   \n",
       "\n",
       "     IFSP Teaming ID name                                 Agency Name  \\\n",
       "238          IFSP Meeting          Siskin Children's Institute (EIRA)   \n",
       "1223         IFSP Meeting        Physical Therapy Services, PA (EIRA)   \n",
       "3774          IEP Meeting  Shelby Residential & Voc Svcs(SRVS) (EIRA)   \n",
       "6054             Co-Visit                         Emory Valley Center   \n",
       "6115             Co-Visit          LeBonheur EI & Dev (LEAD) (vendor)   \n",
       "6718             Co-Visit                         Emory Valley Center   \n",
       "7474         IFSP Meeting                         Emory Valley Center   \n",
       "7739         IFSP Meeting      Infant Stimulation Program - UT Martin   \n",
       "7846             Co-Visit                  Rehab At Your Place (EIRA)   \n",
       "8546          IEP Meeting                                       LTVEC   \n",
       "8637          IEP Meeting            LeBonheur EI & Dev (LEAD) (EIRA)   \n",
       "\n",
       "      Agency Type                        Service Name  \n",
       "238          EIRA  Dev. Therapy Prof - Home/Community  \n",
       "1223         EIRA  Dev. Therapy Prof - Home/Community  \n",
       "3774         EIRA  Dev. Therapy Prof - Home/Community  \n",
       "6054         EIRA  Dev. Therapy Prof - Home/Community  \n",
       "6115  Independent                Occupational Therapy  \n",
       "6718         EIRA  Dev. Therapy Prof - Home/Community  \n",
       "7474         EIRA  Dev. Therapy Prof - Home/Community  \n",
       "7739         EIRA  Dev. Therapy Prof - Home/Community  \n",
       "7846         EIRA  Dev. Therapy Prof - Home/Community  \n",
       "8546         EIRA  Dev. Therapy Prof - Home/Community  \n",
       "8637         EIRA  Dev. Therapy Prof - Home/Community  "
      ]
     },
     "execution_count": 47,
     "metadata": {},
     "output_type": "execute_result"
    }
   ],
   "source": [
    "null_service_times"
   ]
  },
  {
   "cell_type": "code",
   "execution_count": 49,
   "id": "f570b81d",
   "metadata": {},
   "outputs": [
    {
     "name": "stdout",
     "output_type": "stream",
     "text": [
      "Number of NaN values in 'START_TIME' or 'END_TIME': 22\n"
     ]
    }
   ],
   "source": [
    "# Count the occurrences of NaN values in 'START_TIME' or 'END_TIME' to see if they match the null service times and they don't\n",
    "count_nan_values = null_service_times['START_TIME'].isna().sum() + null_service_times['END_TIME'].isna().sum()\n",
    "print(\"Number of NaN values in 'START_TIME' or 'END_TIME':\", count_nan_values)"
   ]
  },
  {
   "cell_type": "code",
   "execution_count": null,
   "id": "15ac1fb8",
   "metadata": {},
   "outputs": [],
   "source": []
  }
 ],
 "metadata": {
  "kernelspec": {
   "display_name": "Python 3 (ipykernel)",
   "language": "python",
   "name": "python3"
  },
  "language_info": {
   "codemirror_mode": {
    "name": "ipython",
    "version": 3
   },
   "file_extension": ".py",
   "mimetype": "text/x-python",
   "name": "python",
   "nbconvert_exporter": "python",
   "pygments_lexer": "ipython3",
   "version": "3.10.9"
  }
 },
 "nbformat": 4,
 "nbformat_minor": 5
}
