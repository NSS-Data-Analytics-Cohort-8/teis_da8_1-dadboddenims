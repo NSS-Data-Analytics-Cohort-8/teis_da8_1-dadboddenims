{
 "cells": [
  {
   "cell_type": "code",
   "execution_count": 1,
   "id": "47c4eb9b",
   "metadata": {},
   "outputs": [],
   "source": [
    "#import the tools"
   ]
  },
  {
   "cell_type": "code",
   "execution_count": 2,
   "id": "e3957911",
   "metadata": {},
   "outputs": [],
   "source": [
    "import pandas as pd"
   ]
  },
  {
   "cell_type": "code",
   "execution_count": 63,
   "id": "3e07d431",
   "metadata": {},
   "outputs": [],
   "source": [
    "import matplotlib.pyplot as plt"
   ]
  },
  {
   "cell_type": "code",
   "execution_count": 4,
   "id": "4bee6dc9",
   "metadata": {},
   "outputs": [],
   "source": [
    "import seaborn"
   ]
  },
  {
   "cell_type": "code",
   "execution_count": 5,
   "id": "4c2c97c1",
   "metadata": {},
   "outputs": [],
   "source": [
    "import sqlalchemy"
   ]
  },
  {
   "cell_type": "code",
   "execution_count": 6,
   "id": "0bdc681e",
   "metadata": {},
   "outputs": [],
   "source": [
    "import re"
   ]
  },
  {
   "cell_type": "code",
   "execution_count": 7,
   "id": "9a9e0b1b",
   "metadata": {},
   "outputs": [],
   "source": [
    "#load the data"
   ]
  },
  {
   "cell_type": "code",
   "execution_count": 8,
   "id": "c8203fec",
   "metadata": {},
   "outputs": [],
   "source": [
    "teis_df = pd.read_excel('../data/teis_data.xlsx', sheet_name='Compiled_IFSP Teaming')"
   ]
  },
  {
   "cell_type": "code",
   "execution_count": 9,
   "id": "4917b00c",
   "metadata": {},
   "outputs": [
    {
     "name": "stderr",
     "output_type": "stream",
     "text": [
      "C:\\Users\\brand\\anaconda3\\lib\\site-packages\\openpyxl\\worksheet\\_read_only.py:79: UserWarning: Unknown extension is not supported and will be removed\n",
      "  for idx, row in parser.parse():\n"
     ]
    }
   ],
   "source": [
    "teis2_df = pd.read_excel('../data/teis_data.xlsx', sheet_name='All Children with IFSPs')"
   ]
  },
  {
   "cell_type": "code",
   "execution_count": 10,
   "id": "af03b97f",
   "metadata": {},
   "outputs": [],
   "source": [
    "#drop duplicate records before standardizing column names"
   ]
  },
  {
   "cell_type": "code",
   "execution_count": 11,
   "id": "04a017d6",
   "metadata": {},
   "outputs": [],
   "source": [
    "teis2_df.drop_duplicates(inplace=True)"
   ]
  },
  {
   "cell_type": "code",
   "execution_count": 12,
   "id": "05ebaee4",
   "metadata": {},
   "outputs": [
    {
     "data": {
      "text/plain": [
       "28654"
      ]
     },
     "execution_count": 12,
     "metadata": {},
     "output_type": "execute_result"
    }
   ],
   "source": [
    "len(teis2_df) "
   ]
  },
  {
   "cell_type": "code",
   "execution_count": 13,
   "id": "81f37c3e",
   "metadata": {},
   "outputs": [],
   "source": [
    "#drop duplicate Child ID before standardizing column names"
   ]
  },
  {
   "cell_type": "code",
   "execution_count": 14,
   "id": "ff599547",
   "metadata": {},
   "outputs": [],
   "source": [
    "teis2_df.drop_duplicates(subset=['Child ID'],inplace=True)"
   ]
  },
  {
   "cell_type": "code",
   "execution_count": 15,
   "id": "9527e138",
   "metadata": {},
   "outputs": [
    {
     "data": {
      "text/plain": [
       "19623"
      ]
     },
     "execution_count": 15,
     "metadata": {},
     "output_type": "execute_result"
    }
   ],
   "source": [
    "len(teis2_df)"
   ]
  },
  {
   "cell_type": "code",
   "execution_count": 16,
   "id": "6a0116d5",
   "metadata": {},
   "outputs": [],
   "source": [
    "#standardizing the column names"
   ]
  },
  {
   "cell_type": "code",
   "execution_count": 17,
   "id": "f58c4c5d",
   "metadata": {},
   "outputs": [],
   "source": [
    "teis_df.columns = teis_df.columns.str.lower().str.replace(' ', '_')"
   ]
  },
  {
   "cell_type": "code",
   "execution_count": 18,
   "id": "20f40a74",
   "metadata": {},
   "outputs": [],
   "source": [
    "teis2_df.columns = teis2_df.columns.str.lower().str.replace(' ', '_')"
   ]
  },
  {
   "cell_type": "code",
   "execution_count": 19,
   "id": "35efdc35",
   "metadata": {},
   "outputs": [],
   "source": [
    "#remove white spaces from column names"
   ]
  },
  {
   "cell_type": "code",
   "execution_count": 20,
   "id": "414c4db5",
   "metadata": {},
   "outputs": [],
   "source": [
    "teis_df.columns = teis_df.columns.str.strip()"
   ]
  },
  {
   "cell_type": "code",
   "execution_count": 21,
   "id": "97795346",
   "metadata": {},
   "outputs": [],
   "source": [
    "teis2_df.columns = teis2_df.columns.str.strip()"
   ]
  },
  {
   "cell_type": "code",
   "execution_count": 22,
   "id": "45472150",
   "metadata": {},
   "outputs": [
    {
     "name": "stdout",
     "output_type": "stream",
     "text": [
      "Index(['child_id', 'service_date', 'start_time', 'end_time', 'service_setting',\n",
      "       'service_delivery', 'add_user', 'add_date', 'ifsp_teaming_id_name',\n",
      "       'agency_name', 'agency_type', 'service_name'],\n",
      "      dtype='object')\n"
     ]
    }
   ],
   "source": [
    "print(teis_df.columns)"
   ]
  },
  {
   "cell_type": "code",
   "execution_count": 23,
   "id": "e3b8b09d",
   "metadata": {},
   "outputs": [
    {
     "name": "stdout",
     "output_type": "stream",
     "text": [
      "Index(['poe', 'child_id', 'referral_date', 'exit_date'], dtype='object')\n"
     ]
    }
   ],
   "source": [
    "print(teis2_df.columns) "
   ]
  },
  {
   "cell_type": "code",
   "execution_count": 24,
   "id": "149eb88b",
   "metadata": {},
   "outputs": [
    {
     "name": "stdout",
     "output_type": "stream",
     "text": [
      "child_id                         int64\n",
      "service_date            datetime64[ns]\n",
      "start_time                      object\n",
      "end_time                        object\n",
      "service_setting                 object\n",
      "service_delivery                object\n",
      "add_user                        object\n",
      "add_date                datetime64[ns]\n",
      "ifsp_teaming_id_name            object\n",
      "agency_name                     object\n",
      "agency_type                     object\n",
      "service_name                    object\n",
      "dtype: object\n"
     ]
    }
   ],
   "source": [
    "print(teis_df.dtypes)"
   ]
  },
  {
   "cell_type": "code",
   "execution_count": 25,
   "id": "eca95cb0",
   "metadata": {},
   "outputs": [
    {
     "name": "stdout",
     "output_type": "stream",
     "text": [
      "poe                      object\n",
      "child_id                  int64\n",
      "referral_date    datetime64[ns]\n",
      "exit_date        datetime64[ns]\n",
      "dtype: object\n"
     ]
    }
   ],
   "source": [
    "print(teis2_df.dtypes)"
   ]
  },
  {
   "cell_type": "code",
   "execution_count": 26,
   "id": "bc82b334",
   "metadata": {},
   "outputs": [],
   "source": [
    "#calculate the participation rate"
   ]
  },
  {
   "cell_type": "code",
   "execution_count": 27,
   "id": "d8dd371f",
   "metadata": {},
   "outputs": [],
   "source": [
    "participation_rate = teis_df[teis_df['service_delivery'] == 'Service Delivered'].shape[0] / len(teis_df) * 100"
   ]
  },
  {
   "cell_type": "code",
   "execution_count": 28,
   "id": "ff99973a",
   "metadata": {},
   "outputs": [
    {
     "data": {
      "text/plain": [
       "99.88473226448707"
      ]
     },
     "execution_count": 28,
     "metadata": {},
     "output_type": "execute_result"
    }
   ],
   "source": [
    "participation_rate"
   ]
  },
  {
   "cell_type": "code",
   "execution_count": 29,
   "id": "2655bd55",
   "metadata": {},
   "outputs": [],
   "source": [
    "# Group the data by the service name and unique child ID\n",
    "grouped_data = teis_df.groupby(['service_name', 'child_id'])\n",
    "\n",
    "# Perform value counts for each group\n",
    "service_counts = grouped_data['service_name'].value_counts()"
   ]
  },
  {
   "cell_type": "code",
   "execution_count": 30,
   "id": "e261595c",
   "metadata": {},
   "outputs": [
    {
     "data": {
      "text/plain": [
       "service_name                          child_id  service_name                        \n",
       "Assistive Technology                  480583    Assistive Technology                    1\n",
       "                                      495629    Assistive Technology                    1\n",
       "                                      517935    Assistive Technology                    1\n",
       "Consultation – Developmental Therapy  495142    Consultation – Developmental Therapy    1\n",
       "                                      504903    Consultation – Developmental Therapy    1\n",
       "                                                                                       ..\n",
       "Vision Services                       516720    Vision Services                         4\n",
       "                                      520963    Vision Services                         4\n",
       "                                      528884    Vision Services                         3\n",
       "                                      529627    Vision Services                         1\n",
       "                                      531099    Vision Services                         4\n",
       "Name: service_name, Length: 5295, dtype: int64"
      ]
     },
     "execution_count": 30,
     "metadata": {},
     "output_type": "execute_result"
    }
   ],
   "source": [
    "service_counts"
   ]
  },
  {
   "cell_type": "code",
   "execution_count": 31,
   "id": "ce5f52ee",
   "metadata": {},
   "outputs": [
    {
     "name": "stdout",
     "output_type": "stream",
     "text": [
      "service_name\n",
      "Dev. Therapy Prof - Home/Community               93.359783\n",
      "Speech Therapy                                    3.925663\n",
      "Occupational Therapy                              3.883901\n",
      "Physical Therapy                                  2.986010\n",
      "Dev. Therapy Center-Based                         1.273752\n",
      "Eval/Assess - Developmental                       1.231990\n",
      "Dev. Therapy - BCBA                               0.730842\n",
      "Evaluation - Occupational Therapy                 0.542911\n",
      "Vision Services                                   0.501148\n",
      "IFSP Team Member Participation (Virtual)          0.375861\n",
      "IFSP Team Member Participation (Face-To-Face)     0.375861\n",
      "Evaluation - Speech Therapy                       0.334099\n",
      "Evaluation - Physical Therapy                     0.313218\n",
      "Physical Therapy Assistant                        0.292337\n",
      "Consultation – Developmental Therapy              0.083525\n",
      "Evaluation - BCBA Developmental Therapy           0.062644\n",
      "Dev. Therapy – Registered Behavior Tech (RBT)     0.062644\n",
      "Dev. Therapy - Behavior                           0.062644\n",
      "Assistive Technology                              0.062644\n",
      "Occupational Therapy Assistant                    0.041762\n",
      "Evaluation/Assessment - Vision                    0.020881\n",
      "Dev. Therapy ParaProf - Home/Community            0.020881\n",
      "Speech Therapy-Group                              0.020881\n",
      "Name: child_id, dtype: float64\n"
     ]
    }
   ],
   "source": [
    "# Group the data by the service name\n",
    "grouped_data = teis_df.groupby('service_name')\n",
    "\n",
    "# Perform value counts for each group\n",
    "service_counts = grouped_data['child_id'].nunique()\n",
    "\n",
    "# Calculate the participation rate for each service\n",
    "participation_rates = service_counts / teis_df['child_id'].nunique() * 100\n",
    "\n",
    "# Print the participation rates for each service\n",
    "print(participation_rates.sort_values(ascending=False))"
   ]
  },
  {
   "cell_type": "code",
   "execution_count": 51,
   "id": "0e3f6fd1",
   "metadata": {},
   "outputs": [],
   "source": [
    "#Investigate the highest service participation rate\n",
    "service_of_interest = 'Dev. Therapy Prof - Home/Community'\n",
    "high_filtered_data = teis_df[teis_df['service_name'] == service_of_interest]"
   ]
  },
  {
   "cell_type": "code",
   "execution_count": 52,
   "id": "09302ee9",
   "metadata": {},
   "outputs": [
    {
     "data": {
      "text/plain": [
       "Index(['child_id', 'service_date', 'start_time', 'end_time', 'service_setting',\n",
       "       'service_delivery', 'add_user', 'add_date', 'ifsp_teaming_id_name',\n",
       "       'agency_name', 'agency_type', 'service_name'],\n",
       "      dtype='object')"
      ]
     },
     "execution_count": 52,
     "metadata": {},
     "output_type": "execute_result"
    }
   ],
   "source": [
    "high_filtered_data.columns"
   ]
  },
  {
   "cell_type": "code",
   "execution_count": 68,
   "id": "6497cd3b",
   "metadata": {},
   "outputs": [],
   "source": [
    "child_id_counts=high_filtered_data['child_id'].value_counts()"
   ]
  },
  {
   "cell_type": "code",
   "execution_count": 66,
   "id": "39bf071c",
   "metadata": {},
   "outputs": [
    {
     "data": {
      "text/plain": [
       "480109    14\n",
       "511895    14\n",
       "513816    12\n",
       "508369    11\n",
       "513146    11\n",
       "          ..\n",
       "510665     1\n",
       "510671     1\n",
       "489362     1\n",
       "489359     1\n",
       "542122     1\n",
       "Name: child_id, Length: 4471, dtype: int64"
      ]
     },
     "execution_count": 66,
     "metadata": {},
     "output_type": "execute_result"
    }
   ],
   "source": [
    "child_id_counts"
   ]
  },
  {
   "cell_type": "code",
   "execution_count": 60,
   "id": "216aeab5",
   "metadata": {},
   "outputs": [
    {
     "data": {
      "text/html": [
       "<div>\n",
       "<style scoped>\n",
       "    .dataframe tbody tr th:only-of-type {\n",
       "        vertical-align: middle;\n",
       "    }\n",
       "\n",
       "    .dataframe tbody tr th {\n",
       "        vertical-align: top;\n",
       "    }\n",
       "\n",
       "    .dataframe thead th {\n",
       "        text-align: right;\n",
       "    }\n",
       "</style>\n",
       "<table border=\"1\" class=\"dataframe\">\n",
       "  <thead>\n",
       "    <tr style=\"text-align: right;\">\n",
       "      <th></th>\n",
       "      <th>child_id</th>\n",
       "      <th>service_setting</th>\n",
       "      <th>add_user</th>\n",
       "      <th>agency_name</th>\n",
       "      <th>ifsp_teaming_id_name</th>\n",
       "    </tr>\n",
       "  </thead>\n",
       "  <tbody>\n",
       "    <tr>\n",
       "      <th>480109</th>\n",
       "      <td>14.0</td>\n",
       "      <td>NaN</td>\n",
       "      <td>NaN</td>\n",
       "      <td>NaN</td>\n",
       "      <td>NaN</td>\n",
       "    </tr>\n",
       "    <tr>\n",
       "      <th>511895</th>\n",
       "      <td>14.0</td>\n",
       "      <td>NaN</td>\n",
       "      <td>NaN</td>\n",
       "      <td>NaN</td>\n",
       "      <td>NaN</td>\n",
       "    </tr>\n",
       "    <tr>\n",
       "      <th>513816</th>\n",
       "      <td>12.0</td>\n",
       "      <td>NaN</td>\n",
       "      <td>NaN</td>\n",
       "      <td>NaN</td>\n",
       "      <td>NaN</td>\n",
       "    </tr>\n",
       "    <tr>\n",
       "      <th>Telehealth</th>\n",
       "      <td>NaN</td>\n",
       "      <td>3263.0</td>\n",
       "      <td>NaN</td>\n",
       "      <td>NaN</td>\n",
       "      <td>NaN</td>\n",
       "    </tr>\n",
       "    <tr>\n",
       "      <th>Home</th>\n",
       "      <td>NaN</td>\n",
       "      <td>3121.0</td>\n",
       "      <td>NaN</td>\n",
       "      <td>NaN</td>\n",
       "      <td>NaN</td>\n",
       "    </tr>\n",
       "    <tr>\n",
       "      <th>Community-based</th>\n",
       "      <td>NaN</td>\n",
       "      <td>1053.0</td>\n",
       "      <td>NaN</td>\n",
       "      <td>NaN</td>\n",
       "      <td>NaN</td>\n",
       "    </tr>\n",
       "    <tr>\n",
       "      <th>ROGERSKALEY</th>\n",
       "      <td>NaN</td>\n",
       "      <td>NaN</td>\n",
       "      <td>225.0</td>\n",
       "      <td>NaN</td>\n",
       "      <td>NaN</td>\n",
       "    </tr>\n",
       "    <tr>\n",
       "      <th>OLIVERCIARA</th>\n",
       "      <td>NaN</td>\n",
       "      <td>NaN</td>\n",
       "      <td>129.0</td>\n",
       "      <td>NaN</td>\n",
       "      <td>NaN</td>\n",
       "    </tr>\n",
       "    <tr>\n",
       "      <th>HARRISKATE</th>\n",
       "      <td>NaN</td>\n",
       "      <td>NaN</td>\n",
       "      <td>118.0</td>\n",
       "      <td>NaN</td>\n",
       "      <td>NaN</td>\n",
       "    </tr>\n",
       "    <tr>\n",
       "      <th>Emory Valley Center</th>\n",
       "      <td>NaN</td>\n",
       "      <td>NaN</td>\n",
       "      <td>NaN</td>\n",
       "      <td>728.0</td>\n",
       "      <td>NaN</td>\n",
       "    </tr>\n",
       "    <tr>\n",
       "      <th>Siskin Children's Institute (EIRA)</th>\n",
       "      <td>NaN</td>\n",
       "      <td>NaN</td>\n",
       "      <td>NaN</td>\n",
       "      <td>685.0</td>\n",
       "      <td>NaN</td>\n",
       "    </tr>\n",
       "    <tr>\n",
       "      <th>Physical Therapy Services, PA (EIRA)</th>\n",
       "      <td>NaN</td>\n",
       "      <td>NaN</td>\n",
       "      <td>NaN</td>\n",
       "      <td>588.0</td>\n",
       "      <td>NaN</td>\n",
       "    </tr>\n",
       "    <tr>\n",
       "      <th>IFSP Meeting</th>\n",
       "      <td>NaN</td>\n",
       "      <td>NaN</td>\n",
       "      <td>NaN</td>\n",
       "      <td>NaN</td>\n",
       "      <td>4656.0</td>\n",
       "    </tr>\n",
       "    <tr>\n",
       "      <th>Co-Visit</th>\n",
       "      <td>NaN</td>\n",
       "      <td>NaN</td>\n",
       "      <td>NaN</td>\n",
       "      <td>NaN</td>\n",
       "      <td>2400.0</td>\n",
       "    </tr>\n",
       "    <tr>\n",
       "      <th>IEP Meeting</th>\n",
       "      <td>NaN</td>\n",
       "      <td>NaN</td>\n",
       "      <td>NaN</td>\n",
       "      <td>NaN</td>\n",
       "      <td>615.0</td>\n",
       "    </tr>\n",
       "  </tbody>\n",
       "</table>\n",
       "</div>"
      ],
      "text/plain": [
       "                                      child_id  service_setting  add_user  \\\n",
       "480109                                    14.0              NaN       NaN   \n",
       "511895                                    14.0              NaN       NaN   \n",
       "513816                                    12.0              NaN       NaN   \n",
       "Telehealth                                 NaN           3263.0       NaN   \n",
       "Home                                       NaN           3121.0       NaN   \n",
       "Community-based                            NaN           1053.0       NaN   \n",
       "ROGERSKALEY                                NaN              NaN     225.0   \n",
       "OLIVERCIARA                                NaN              NaN     129.0   \n",
       "HARRISKATE                                 NaN              NaN     118.0   \n",
       "Emory Valley Center                        NaN              NaN       NaN   \n",
       "Siskin Children's Institute (EIRA)         NaN              NaN       NaN   \n",
       "Physical Therapy Services, PA (EIRA)       NaN              NaN       NaN   \n",
       "IFSP Meeting                               NaN              NaN       NaN   \n",
       "Co-Visit                                   NaN              NaN       NaN   \n",
       "IEP Meeting                                NaN              NaN       NaN   \n",
       "\n",
       "                                      agency_name  ifsp_teaming_id_name  \n",
       "480109                                        NaN                   NaN  \n",
       "511895                                        NaN                   NaN  \n",
       "513816                                        NaN                   NaN  \n",
       "Telehealth                                    NaN                   NaN  \n",
       "Home                                          NaN                   NaN  \n",
       "Community-based                               NaN                   NaN  \n",
       "ROGERSKALEY                                   NaN                   NaN  \n",
       "OLIVERCIARA                                   NaN                   NaN  \n",
       "HARRISKATE                                    NaN                   NaN  \n",
       "Emory Valley Center                         728.0                   NaN  \n",
       "Siskin Children's Institute (EIRA)          685.0                   NaN  \n",
       "Physical Therapy Services, PA (EIRA)        588.0                   NaN  \n",
       "IFSP Meeting                                  NaN                4656.0  \n",
       "Co-Visit                                      NaN                2400.0  \n",
       "IEP Meeting                                   NaN                 615.0  "
      ]
     },
     "execution_count": 60,
     "metadata": {},
     "output_type": "execute_result"
    }
   ],
   "source": [
    "columns_of_interest = ['child_id','service_setting', 'add_user', 'agency_name', 'ifsp_teaming_id_name']\n",
    "high_value_counts_df = pd.concat([high_filtered_data[col].value_counts().nlargest(3) for col in columns_of_interest], axis=1)\n",
    "\n",
    "high_value_counts_df"
   ]
  },
  {
   "cell_type": "code",
   "execution_count": 56,
   "id": "0a294ff4",
   "metadata": {},
   "outputs": [],
   "source": [
    "#Investigate the highest service participation rate\n",
    "service_of_interest = 'Speech Therapy-Group'\n",
    "low_filtered_data = teis_df[teis_df['service_name'] == service_of_interest]"
   ]
  },
  {
   "cell_type": "code",
   "execution_count": 62,
   "id": "31b1038f",
   "metadata": {},
   "outputs": [
    {
     "data": {
      "text/html": [
       "<div>\n",
       "<style scoped>\n",
       "    .dataframe tbody tr th:only-of-type {\n",
       "        vertical-align: middle;\n",
       "    }\n",
       "\n",
       "    .dataframe tbody tr th {\n",
       "        vertical-align: top;\n",
       "    }\n",
       "\n",
       "    .dataframe thead th {\n",
       "        text-align: right;\n",
       "    }\n",
       "</style>\n",
       "<table border=\"1\" class=\"dataframe\">\n",
       "  <thead>\n",
       "    <tr style=\"text-align: right;\">\n",
       "      <th></th>\n",
       "      <th>child_id</th>\n",
       "      <th>service_setting</th>\n",
       "      <th>add_user</th>\n",
       "      <th>agency_name</th>\n",
       "      <th>ifsp_teaming_id_name</th>\n",
       "    </tr>\n",
       "  </thead>\n",
       "  <tbody>\n",
       "    <tr>\n",
       "      <th>462846</th>\n",
       "      <td>1.0</td>\n",
       "      <td>NaN</td>\n",
       "      <td>NaN</td>\n",
       "      <td>NaN</td>\n",
       "      <td>NaN</td>\n",
       "    </tr>\n",
       "    <tr>\n",
       "      <th>Community-based</th>\n",
       "      <td>NaN</td>\n",
       "      <td>1.0</td>\n",
       "      <td>NaN</td>\n",
       "      <td>NaN</td>\n",
       "      <td>NaN</td>\n",
       "    </tr>\n",
       "    <tr>\n",
       "      <th>SNELLGENEINE</th>\n",
       "      <td>NaN</td>\n",
       "      <td>NaN</td>\n",
       "      <td>1.0</td>\n",
       "      <td>NaN</td>\n",
       "      <td>NaN</td>\n",
       "    </tr>\n",
       "    <tr>\n",
       "      <th>Vanderbilt Bill Wilkerson Center</th>\n",
       "      <td>NaN</td>\n",
       "      <td>NaN</td>\n",
       "      <td>NaN</td>\n",
       "      <td>1.0</td>\n",
       "      <td>NaN</td>\n",
       "    </tr>\n",
       "    <tr>\n",
       "      <th>Co-Visit</th>\n",
       "      <td>NaN</td>\n",
       "      <td>NaN</td>\n",
       "      <td>NaN</td>\n",
       "      <td>NaN</td>\n",
       "      <td>1.0</td>\n",
       "    </tr>\n",
       "  </tbody>\n",
       "</table>\n",
       "</div>"
      ],
      "text/plain": [
       "                                  child_id  service_setting  add_user  \\\n",
       "462846                                 1.0              NaN       NaN   \n",
       "Community-based                        NaN              1.0       NaN   \n",
       "SNELLGENEINE                           NaN              NaN       1.0   \n",
       "Vanderbilt Bill Wilkerson Center       NaN              NaN       NaN   \n",
       "Co-Visit                               NaN              NaN       NaN   \n",
       "\n",
       "                                  agency_name  ifsp_teaming_id_name  \n",
       "462846                                    NaN                   NaN  \n",
       "Community-based                           NaN                   NaN  \n",
       "SNELLGENEINE                              NaN                   NaN  \n",
       "Vanderbilt Bill Wilkerson Center          1.0                   NaN  \n",
       "Co-Visit                                  NaN                   1.0  "
      ]
     },
     "execution_count": 62,
     "metadata": {},
     "output_type": "execute_result"
    }
   ],
   "source": [
    "columns_of_interest = ['child_id','service_setting', 'add_user', 'agency_name', 'ifsp_teaming_id_name']\n",
    "low_value_counts_df = pd.concat([low_filtered_data[col].value_counts().nlargest(3) for col in columns_of_interest], axis=1)\n",
    "\n",
    "low_value_counts_df"
   ]
  },
  {
   "cell_type": "code",
   "execution_count": 64,
   "id": "2ea08873",
   "metadata": {},
   "outputs": [
    {
     "data": {
      "image/png": "[encoded data removed]",
      "text/plain": [
       "<Figure size 640x480 with 1 Axes>"
      ]
     },
     "metadata": {},
     "output_type": "display_data"
    }
   ],
   "source": [
    "top_five_services = participation_rates.sort_values(ascending=False).head(5)\n",
    "\n",
    "plt.bar(top_five_services.index, top_five_services)\n",
    "plt.xlabel('Service Name')\n",
    "plt.ylabel('Participation Rate')\n",
    "plt.title('Top Five Services by Participation Rate')\n",
    "plt.xticks(rotation=90)\n",
    "plt.show()"
   ]
  },
  {
   "cell_type": "code",
   "execution_count": null,
   "id": "7221d505",
   "metadata": {},
   "outputs": [],
   "source": []
  }
 ],
 "metadata": {
  "kernelspec": {
   "display_name": "Python 3 (ipykernel)",
   "language": "python",
   "name": "python3"
  },
  "language_info": {
   "codemirror_mode": {
    "name": "ipython",
    "version": 3
   },
   "file_extension": ".py",
   "mimetype": "text/x-python",
   "name": "python",
   "nbconvert_exporter": "python",
   "pygments_lexer": "ipython3",
   "version": "3.10.9"
  }
 },
 "nbformat": 4,
 "nbformat_minor": 5
}
