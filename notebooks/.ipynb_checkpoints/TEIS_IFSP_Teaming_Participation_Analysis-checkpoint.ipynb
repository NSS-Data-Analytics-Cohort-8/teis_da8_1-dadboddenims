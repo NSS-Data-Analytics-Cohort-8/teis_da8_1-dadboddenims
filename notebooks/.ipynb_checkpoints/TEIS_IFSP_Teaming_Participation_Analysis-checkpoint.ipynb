{
 "cells": [
  {
   "cell_type": "code",
   "execution_count": 1,
   "id": "47c4eb9b",
   "metadata": {},
   "outputs": [],
   "source": [
    "#import the tools"
   ]
  },
  {
   "cell_type": "code",
   "execution_count": 2,
   "id": "e3957911",
   "metadata": {},
   "outputs": [],
   "source": [
    "import pandas as pd"
   ]
  },
  {
   "cell_type": "code",
   "execution_count": 3,
   "id": "3e07d431",
   "metadata": {},
   "outputs": [],
   "source": [
    "import matplotlib"
   ]
  },
  {
   "cell_type": "code",
   "execution_count": 4,
   "id": "4bee6dc9",
   "metadata": {},
   "outputs": [],
   "source": [
    "import seaborn"
   ]
  },
  {
   "cell_type": "code",
   "execution_count": 5,
   "id": "4c2c97c1",
   "metadata": {},
   "outputs": [],
   "source": [
    "import sqlalchemy"
   ]
  },
  {
   "cell_type": "code",
   "execution_count": 6,
   "id": "0bdc681e",
   "metadata": {},
   "outputs": [],
   "source": [
    "import re"
   ]
  },
  {
   "cell_type": "code",
   "execution_count": 7,
   "id": "9a9e0b1b",
   "metadata": {},
   "outputs": [],
   "source": [
    "#load the data"
   ]
  },
  {
   "cell_type": "code",
   "execution_count": 8,
   "id": "c8203fec",
   "metadata": {},
   "outputs": [],
   "source": [
    "teis_df = pd.read_excel('../data/teis_data.xlsx', sheet_name='Compiled_IFSP Teaming')"
   ]
  },
  {
   "cell_type": "code",
   "execution_count": 9,
   "id": "4917b00c",
   "metadata": {},
   "outputs": [
    {
     "name": "stderr",
     "output_type": "stream",
     "text": [
      "C:\\Users\\brand\\anaconda3\\lib\\site-packages\\openpyxl\\worksheet\\_read_only.py:79: UserWarning: Unknown extension is not supported and will be removed\n",
      "  for idx, row in parser.parse():\n"
     ]
    }
   ],
   "source": [
    "teis2_df = pd.read_excel('../data/teis_data.xlsx', sheet_name='All Children with IFSPs')"
   ]
  },
  {
   "cell_type": "code",
   "execution_count": 10,
   "id": "af03b97f",
   "metadata": {},
   "outputs": [],
   "source": [
    "#drop duplicate records before standardizing column names"
   ]
  },
  {
   "cell_type": "code",
   "execution_count": 11,
   "id": "04a017d6",
   "metadata": {},
   "outputs": [],
   "source": [
    "teis2_df.drop_duplicates(inplace=True)"
   ]
  },
  {
   "cell_type": "code",
   "execution_count": 12,
   "id": "05ebaee4",
   "metadata": {},
   "outputs": [
    {
     "data": {
      "text/plain": [
       "28654"
      ]
     },
     "execution_count": 12,
     "metadata": {},
     "output_type": "execute_result"
    }
   ],
   "source": [
    "len(teis2_df) "
   ]
  },
  {
   "cell_type": "code",
   "execution_count": 13,
   "id": "81f37c3e",
   "metadata": {},
   "outputs": [],
   "source": [
    "#drop duplicate Child ID before standardizing column names"
   ]
  },
  {
   "cell_type": "code",
   "execution_count": 14,
   "id": "ff599547",
   "metadata": {},
   "outputs": [],
   "source": [
    "teis2_df.drop_duplicates(subset=['Child ID'],inplace=True)"
   ]
  },
  {
   "cell_type": "code",
   "execution_count": 15,
   "id": "9527e138",
   "metadata": {},
   "outputs": [
    {
     "data": {
      "text/plain": [
       "19623"
      ]
     },
     "execution_count": 15,
     "metadata": {},
     "output_type": "execute_result"
    }
   ],
   "source": [
    "len(teis2_df)"
   ]
  },
  {
   "cell_type": "code",
   "execution_count": 16,
   "id": "6a0116d5",
   "metadata": {},
   "outputs": [],
   "source": [
    "#standardizing the column names"
   ]
  },
  {
   "cell_type": "code",
   "execution_count": 17,
   "id": "f58c4c5d",
   "metadata": {},
   "outputs": [],
   "source": [
    "teis_df.columns = teis_df.columns.str.lower().str.replace(' ', '_')"
   ]
  },
  {
   "cell_type": "code",
   "execution_count": 18,
   "id": "20f40a74",
   "metadata": {},
   "outputs": [],
   "source": [
    "teis2_df.columns = teis2_df.columns.str.lower().str.replace(' ', '_')"
   ]
  },
  {
   "cell_type": "code",
   "execution_count": 19,
   "id": "35efdc35",
   "metadata": {},
   "outputs": [],
   "source": [
    "#remove white spaces from column names"
   ]
  },
  {
   "cell_type": "code",
   "execution_count": 20,
   "id": "414c4db5",
   "metadata": {},
   "outputs": [],
   "source": [
    "teis_df.columns = teis_df.columns.str.strip()"
   ]
  },
  {
   "cell_type": "code",
   "execution_count": 21,
   "id": "97795346",
   "metadata": {},
   "outputs": [],
   "source": [
    "teis2_df.columns = teis2_df.columns.str.strip()"
   ]
  },
  {
   "cell_type": "code",
   "execution_count": 22,
   "id": "45472150",
   "metadata": {},
   "outputs": [
    {
     "name": "stdout",
     "output_type": "stream",
     "text": [
      "Index(['child_id', 'service_date', 'start_time', 'end_time', 'service_setting',\n",
      "       'service_delivery', 'add_user', 'add_date', 'ifsp_teaming_id_name',\n",
      "       'agency_name', 'agency_type', 'service_name'],\n",
      "      dtype='object')\n"
     ]
    }
   ],
   "source": [
    "print(teis_df.columns)"
   ]
  },
  {
   "cell_type": "code",
   "execution_count": 23,
   "id": "e3b8b09d",
   "metadata": {},
   "outputs": [
    {
     "name": "stdout",
     "output_type": "stream",
     "text": [
      "Index(['poe', 'child_id', 'referral_date', 'exit_date'], dtype='object')\n"
     ]
    }
   ],
   "source": [
    "print(teis2_df.columns) "
   ]
  },
  {
   "cell_type": "code",
   "execution_count": 24,
   "id": "149eb88b",
   "metadata": {},
   "outputs": [
    {
     "name": "stdout",
     "output_type": "stream",
     "text": [
      "child_id                         int64\n",
      "service_date            datetime64[ns]\n",
      "start_time                      object\n",
      "end_time                        object\n",
      "service_setting                 object\n",
      "service_delivery                object\n",
      "add_user                        object\n",
      "add_date                datetime64[ns]\n",
      "ifsp_teaming_id_name            object\n",
      "agency_name                     object\n",
      "agency_type                     object\n",
      "service_name                    object\n",
      "dtype: object\n"
     ]
    }
   ],
   "source": [
    "print(teis_df.dtypes)"
   ]
  },
  {
   "cell_type": "code",
   "execution_count": 25,
   "id": "eca95cb0",
   "metadata": {},
   "outputs": [
    {
     "name": "stdout",
     "output_type": "stream",
     "text": [
      "poe                      object\n",
      "child_id                  int64\n",
      "referral_date    datetime64[ns]\n",
      "exit_date        datetime64[ns]\n",
      "dtype: object\n"
     ]
    }
   ],
   "source": [
    "print(teis2_df.dtypes)"
   ]
  },
  {
   "cell_type": "code",
   "execution_count": 27,
   "id": "bc82b334",
   "metadata": {},
   "outputs": [],
   "source": [
    "#calculate the participation rate"
   ]
  },
  {
   "cell_type": "code",
   "execution_count": 29,
   "id": "d8dd371f",
   "metadata": {},
   "outputs": [],
   "source": [
    "participation_rate = teis_df[teis_df['service_delivery'] == 'Service Delivered'].shape[0] / len(teis_df) * 100"
   ]
  },
  {
   "cell_type": "code",
   "execution_count": 32,
   "id": "ff99973a",
   "metadata": {},
   "outputs": [
    {
     "data": {
      "text/plain": [
       "99.88473226448707"
      ]
     },
     "execution_count": 32,
     "metadata": {},
     "output_type": "execute_result"
    }
   ],
   "source": [
    "participation_rate"
   ]
  },
  {
   "cell_type": "code",
   "execution_count": null,
   "id": "c3b61161",
   "metadata": {},
   "outputs": [],
   "source": []
  }
 ],
 "metadata": {
  "kernelspec": {
   "display_name": "Python 3 (ipykernel)",
   "language": "python",
   "name": "python3"
  },
  "language_info": {
   "codemirror_mode": {
    "name": "ipython",
    "version": 3
   },
   "file_extension": ".py",
   "mimetype": "text/x-python",
   "name": "python",
   "nbconvert_exporter": "python",
   "pygments_lexer": "ipython3",
   "version": "3.10.9"
  }
 },
 "nbformat": 4,
 "nbformat_minor": 5
}
