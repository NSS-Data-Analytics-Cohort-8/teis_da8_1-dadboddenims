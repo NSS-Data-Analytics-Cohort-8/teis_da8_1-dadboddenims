{
 "cells": [
  {
   "cell_type": "code",
   "execution_count": 38,
   "metadata": {},
   "outputs": [],
   "source": [
    "import pandas as pd\n",
    "import matplotlib.pyplot as plt\n",
    "import seaborn as sns\n",
    "import numpy as np"
   ]
  },
  {
   "cell_type": "code",
   "execution_count": 39,
   "metadata": {},
   "outputs": [
    {
     "name": "stderr",
     "output_type": "stream",
     "text": [
      "c:\\Users\\patri\\anaconda3\\lib\\site-packages\\openpyxl\\worksheet\\_read_only.py:79: UserWarning: Unknown extension is not supported and will be removed\n",
      "  for idx, row in parser.parse():\n"
     ]
    }
   ],
   "source": [
    "compiled = pd.read_excel('../data/TEIS_IFSP_Teaming_Jan_2022-_Jan_2023.xlsx', sheet_name= 'Compiled_IFSP Teaming')\n",
    "intake = pd.read_excel('../data/TEIS_IFSP_Teaming_Jan_2022-_Jan_2023.xlsx', sheet_name= 'All Children with IFSPs')"
   ]
  },
  {
   "cell_type": "code",
   "execution_count": 40,
   "metadata": {},
   "outputs": [],
   "source": [
    "compiled = compiled\n",
    "intake = intake"
   ]
  },
  {
   "cell_type": "markdown",
   "metadata": {},
   "source": [
    "# 4. Does participation vary by service type? by service setting? by point of entry?"
   ]
  },
  {
   "cell_type": "code",
   "execution_count": 41,
   "metadata": {},
   "outputs": [],
   "source": [
    "compiled_thin = compiled[['CHILD_ID', 'SERVICE_DATE','SERVICE_SETTING','ADD_USER', 'IFSP Teaming ID name','Agency Name','Agency Type', 'Service Name']]\n",
    "compiled_thin = compiled_thin.rename(columns = {'CHILD_ID':'child_id', \n",
    "                                                'SERVICE_DATE':'service_date',\n",
    "                                                'SERVICE_SETTING':'service_setting',\n",
    "                                                'ADD_USER':'add_user', \n",
    "                                                'IFSP Teaming ID name':'meeting_type',\n",
    "                                                'Agency Name':'agency_name',\n",
    "                                                'Agency Type':'agency_type', \n",
    "                                                'Service Name':'service_type'})"
   ]
  },
  {
   "cell_type": "code",
   "execution_count": 42,
   "metadata": {},
   "outputs": [],
   "source": [
    "intake_clean = intake.rename(columns= {'POE':'poe',\n",
    "                                             'Child ID':'child_id',\n",
    "                                             'Referral Date': 'referral_date',\n",
    "                                             'Exit Date':'exit_date'})\n",
    "intake_clean = intake_clean.drop_duplicates()"
   ]
  },
  {
   "cell_type": "code",
   "execution_count": 43,
   "metadata": {},
   "outputs": [],
   "source": [
    "child_visits2 = compiled['CHILD_ID'].value_counts().reset_index().rename(columns = {'index':'child_id', 'CHILD_ID':'visit_count'})\n",
    "intake_visit = pd.merge(intake_clean, child_visits2, how= 'left', on='child_id')\n",
    "intake_visit['visit_count'] = intake_visit['visit_count'].fillna(0)"
   ]
  },
  {
   "cell_type": "markdown",
   "metadata": {},
   "source": [
    "# all intake"
   ]
  },
  {
   "cell_type": "code",
   "execution_count": 44,
   "metadata": {},
   "outputs": [
    {
     "data": {
      "text/plain": [
       "(28654, 5)"
      ]
     },
     "execution_count": 44,
     "metadata": {},
     "output_type": "execute_result"
    }
   ],
   "source": [
    "intake_visit.shape"
   ]
  },
  {
   "cell_type": "code",
   "execution_count": 45,
   "metadata": {},
   "outputs": [
    {
     "data": {
      "text/html": [
       "<div>\n",
       "<style scoped>\n",
       "    .dataframe tbody tr th:only-of-type {\n",
       "        vertical-align: middle;\n",
       "    }\n",
       "\n",
       "    .dataframe tbody tr th {\n",
       "        vertical-align: top;\n",
       "    }\n",
       "\n",
       "    .dataframe thead th {\n",
       "        text-align: right;\n",
       "    }\n",
       "</style>\n",
       "<table border=\"1\" class=\"dataframe\">\n",
       "  <thead>\n",
       "    <tr style=\"text-align: right;\">\n",
       "      <th></th>\n",
       "      <th>poe</th>\n",
       "      <th>child_id</th>\n",
       "      <th>referral_date</th>\n",
       "      <th>exit_date</th>\n",
       "      <th>visit_count</th>\n",
       "    </tr>\n",
       "  </thead>\n",
       "  <tbody>\n",
       "    <tr>\n",
       "      <th>0</th>\n",
       "      <td>ET</td>\n",
       "      <td>508615</td>\n",
       "      <td>2021-08-06</td>\n",
       "      <td>NaT</td>\n",
       "      <td>1.0</td>\n",
       "    </tr>\n",
       "    <tr>\n",
       "      <th>1</th>\n",
       "      <td>ET</td>\n",
       "      <td>488455</td>\n",
       "      <td>2021-11-02</td>\n",
       "      <td>NaT</td>\n",
       "      <td>0.0</td>\n",
       "    </tr>\n",
       "    <tr>\n",
       "      <th>2</th>\n",
       "      <td>ET</td>\n",
       "      <td>494500</td>\n",
       "      <td>2020-12-14</td>\n",
       "      <td>NaT</td>\n",
       "      <td>0.0</td>\n",
       "    </tr>\n",
       "    <tr>\n",
       "      <th>3</th>\n",
       "      <td>ET</td>\n",
       "      <td>515143</td>\n",
       "      <td>2021-11-22</td>\n",
       "      <td>NaT</td>\n",
       "      <td>1.0</td>\n",
       "    </tr>\n",
       "    <tr>\n",
       "      <th>4</th>\n",
       "      <td>ET</td>\n",
       "      <td>505490</td>\n",
       "      <td>2021-06-15</td>\n",
       "      <td>NaT</td>\n",
       "      <td>0.0</td>\n",
       "    </tr>\n",
       "    <tr>\n",
       "      <th>...</th>\n",
       "      <td>...</td>\n",
       "      <td>...</td>\n",
       "      <td>...</td>\n",
       "      <td>...</td>\n",
       "      <td>...</td>\n",
       "    </tr>\n",
       "    <tr>\n",
       "      <th>28649</th>\n",
       "      <td>UC</td>\n",
       "      <td>541668</td>\n",
       "      <td>2022-11-28</td>\n",
       "      <td>NaT</td>\n",
       "      <td>0.0</td>\n",
       "    </tr>\n",
       "    <tr>\n",
       "      <th>28650</th>\n",
       "      <td>UC</td>\n",
       "      <td>484305</td>\n",
       "      <td>2023-01-09</td>\n",
       "      <td>NaT</td>\n",
       "      <td>0.0</td>\n",
       "    </tr>\n",
       "    <tr>\n",
       "      <th>28651</th>\n",
       "      <td>UC</td>\n",
       "      <td>540987</td>\n",
       "      <td>2022-11-16</td>\n",
       "      <td>NaT</td>\n",
       "      <td>0.0</td>\n",
       "    </tr>\n",
       "    <tr>\n",
       "      <th>28652</th>\n",
       "      <td>UC</td>\n",
       "      <td>526430</td>\n",
       "      <td>2022-07-19</td>\n",
       "      <td>2023-02-13</td>\n",
       "      <td>0.0</td>\n",
       "    </tr>\n",
       "    <tr>\n",
       "      <th>28653</th>\n",
       "      <td>UC</td>\n",
       "      <td>545101</td>\n",
       "      <td>2023-01-17</td>\n",
       "      <td>NaT</td>\n",
       "      <td>0.0</td>\n",
       "    </tr>\n",
       "  </tbody>\n",
       "</table>\n",
       "<p>28654 rows × 5 columns</p>\n",
       "</div>"
      ],
      "text/plain": [
       "      poe  child_id referral_date  exit_date  visit_count\n",
       "0      ET    508615    2021-08-06        NaT          1.0\n",
       "1      ET    488455    2021-11-02        NaT          0.0\n",
       "2      ET    494500    2020-12-14        NaT          0.0\n",
       "3      ET    515143    2021-11-22        NaT          1.0\n",
       "4      ET    505490    2021-06-15        NaT          0.0\n",
       "...    ..       ...           ...        ...          ...\n",
       "28649  UC    541668    2022-11-28        NaT          0.0\n",
       "28650  UC    484305    2023-01-09        NaT          0.0\n",
       "28651  UC    540987    2022-11-16        NaT          0.0\n",
       "28652  UC    526430    2022-07-19 2023-02-13          0.0\n",
       "28653  UC    545101    2023-01-17        NaT          0.0\n",
       "\n",
       "[28654 rows x 5 columns]"
      ]
     },
     "execution_count": 45,
     "metadata": {},
     "output_type": "execute_result"
    }
   ],
   "source": [
    "intake_visit"
   ]
  },
  {
   "attachments": {},
   "cell_type": "markdown",
   "metadata": {},
   "source": [
    "# all intake min 1 visit"
   ]
  },
  {
   "cell_type": "code",
   "execution_count": 46,
   "metadata": {},
   "outputs": [
    {
     "data": {
      "text/plain": [
       "(6924, 5)"
      ]
     },
     "execution_count": 46,
     "metadata": {},
     "output_type": "execute_result"
    }
   ],
   "source": [
    "iv_min_1 = intake_visit[intake_visit['visit_count'] >0]\n",
    "iv_min_1.shape"
   ]
  },
  {
   "cell_type": "code",
   "execution_count": 47,
   "metadata": {},
   "outputs": [
    {
     "data": {
      "text/html": [
       "<div>\n",
       "<style scoped>\n",
       "    .dataframe tbody tr th:only-of-type {\n",
       "        vertical-align: middle;\n",
       "    }\n",
       "\n",
       "    .dataframe tbody tr th {\n",
       "        vertical-align: top;\n",
       "    }\n",
       "\n",
       "    .dataframe thead th {\n",
       "        text-align: right;\n",
       "    }\n",
       "</style>\n",
       "<table border=\"1\" class=\"dataframe\">\n",
       "  <thead>\n",
       "    <tr style=\"text-align: right;\">\n",
       "      <th></th>\n",
       "      <th>poe</th>\n",
       "      <th>child_id</th>\n",
       "      <th>referral_date</th>\n",
       "      <th>exit_date</th>\n",
       "      <th>visit_count</th>\n",
       "    </tr>\n",
       "  </thead>\n",
       "  <tbody>\n",
       "    <tr>\n",
       "      <th>0</th>\n",
       "      <td>ET</td>\n",
       "      <td>508615</td>\n",
       "      <td>2021-08-06</td>\n",
       "      <td>NaT</td>\n",
       "      <td>1.0</td>\n",
       "    </tr>\n",
       "    <tr>\n",
       "      <th>3</th>\n",
       "      <td>ET</td>\n",
       "      <td>515143</td>\n",
       "      <td>2021-11-22</td>\n",
       "      <td>NaT</td>\n",
       "      <td>1.0</td>\n",
       "    </tr>\n",
       "    <tr>\n",
       "      <th>8</th>\n",
       "      <td>ET</td>\n",
       "      <td>488500</td>\n",
       "      <td>2020-08-27</td>\n",
       "      <td>2022-02-17</td>\n",
       "      <td>1.0</td>\n",
       "    </tr>\n",
       "    <tr>\n",
       "      <th>14</th>\n",
       "      <td>ET</td>\n",
       "      <td>476451</td>\n",
       "      <td>2020-02-12</td>\n",
       "      <td>NaT</td>\n",
       "      <td>3.0</td>\n",
       "    </tr>\n",
       "    <tr>\n",
       "      <th>21</th>\n",
       "      <td>ET</td>\n",
       "      <td>486336</td>\n",
       "      <td>2020-07-20</td>\n",
       "      <td>NaT</td>\n",
       "      <td>1.0</td>\n",
       "    </tr>\n",
       "    <tr>\n",
       "      <th>...</th>\n",
       "      <td>...</td>\n",
       "      <td>...</td>\n",
       "      <td>...</td>\n",
       "      <td>...</td>\n",
       "      <td>...</td>\n",
       "    </tr>\n",
       "    <tr>\n",
       "      <th>28556</th>\n",
       "      <td>UC</td>\n",
       "      <td>508173</td>\n",
       "      <td>2021-07-29</td>\n",
       "      <td>2023-02-02</td>\n",
       "      <td>3.0</td>\n",
       "    </tr>\n",
       "    <tr>\n",
       "      <th>28568</th>\n",
       "      <td>UC</td>\n",
       "      <td>490975</td>\n",
       "      <td>2020-10-09</td>\n",
       "      <td>2023-02-09</td>\n",
       "      <td>2.0</td>\n",
       "    </tr>\n",
       "    <tr>\n",
       "      <th>28569</th>\n",
       "      <td>UC</td>\n",
       "      <td>517966</td>\n",
       "      <td>2022-01-25</td>\n",
       "      <td>2023-01-20</td>\n",
       "      <td>1.0</td>\n",
       "    </tr>\n",
       "    <tr>\n",
       "      <th>28614</th>\n",
       "      <td>UC</td>\n",
       "      <td>521535</td>\n",
       "      <td>2022-02-07</td>\n",
       "      <td>2023-02-07</td>\n",
       "      <td>2.0</td>\n",
       "    </tr>\n",
       "    <tr>\n",
       "      <th>28617</th>\n",
       "      <td>UC</td>\n",
       "      <td>530408</td>\n",
       "      <td>2022-06-13</td>\n",
       "      <td>2023-02-07</td>\n",
       "      <td>1.0</td>\n",
       "    </tr>\n",
       "  </tbody>\n",
       "</table>\n",
       "<p>6924 rows × 5 columns</p>\n",
       "</div>"
      ],
      "text/plain": [
       "      poe  child_id referral_date  exit_date  visit_count\n",
       "0      ET    508615    2021-08-06        NaT          1.0\n",
       "3      ET    515143    2021-11-22        NaT          1.0\n",
       "8      ET    488500    2020-08-27 2022-02-17          1.0\n",
       "14     ET    476451    2020-02-12        NaT          3.0\n",
       "21     ET    486336    2020-07-20        NaT          1.0\n",
       "...    ..       ...           ...        ...          ...\n",
       "28556  UC    508173    2021-07-29 2023-02-02          3.0\n",
       "28568  UC    490975    2020-10-09 2023-02-09          2.0\n",
       "28569  UC    517966    2022-01-25 2023-01-20          1.0\n",
       "28614  UC    521535    2022-02-07 2023-02-07          2.0\n",
       "28617  UC    530408    2022-06-13 2023-02-07          1.0\n",
       "\n",
       "[6924 rows x 5 columns]"
      ]
     },
     "execution_count": 47,
     "metadata": {},
     "output_type": "execute_result"
    }
   ],
   "source": [
    "iv_min_1"
   ]
  },
  {
   "cell_type": "code",
   "execution_count": 102,
   "metadata": {},
   "outputs": [],
   "source": [
    "iv_min_1 = iv_min_1.sort_values('visit_count', ascending=False)"
   ]
  },
  {
   "cell_type": "code",
   "execution_count": 105,
   "metadata": {},
   "outputs": [],
   "source": [
    "iv_min_6 = iv_min_1[iv_min_1['visit_count'] >6]"
   ]
  },
  {
   "cell_type": "code",
   "execution_count": 106,
   "metadata": {},
   "outputs": [
    {
     "data": {
      "text/plain": [
       "<Axes: xlabel='visit_count', ylabel='poe'>"
      ]
     },
     "execution_count": 106,
     "metadata": {},
     "output_type": "execute_result"
    },
    {
     "data": {
      "image/png": "[encoded data removed]",
      "text/plain": [
       "<Figure size 640x480 with 1 Axes>"
      ]
     },
     "metadata": {},
     "output_type": "display_data"
    }
   ],
   "source": [
    "sns.barplot(data = iv_min_6,\n",
    "            orient= 'h', x='visit_count', y='poe')"
   ]
  },
  {
   "attachments": {},
   "cell_type": "markdown",
   "metadata": {},
   "source": [
    "# aged out"
   ]
  },
  {
   "cell_type": "code",
   "execution_count": 48,
   "metadata": {},
   "outputs": [
    {
     "data": {
      "text/plain": [
       "(9980, 5)"
      ]
     },
     "execution_count": 48,
     "metadata": {},
     "output_type": "execute_result"
    }
   ],
   "source": [
    "age_out = intake_visit[intake_visit['exit_date'].notnull()]\n",
    "age_out.shape"
   ]
  },
  {
   "attachments": {},
   "cell_type": "markdown",
   "metadata": {},
   "source": [
    "# aged out min 1"
   ]
  },
  {
   "cell_type": "code",
   "execution_count": 49,
   "metadata": {},
   "outputs": [
    {
     "data": {
      "text/plain": [
       "(2131, 5)"
      ]
     },
     "execution_count": 49,
     "metadata": {},
     "output_type": "execute_result"
    }
   ],
   "source": [
    "age_out_min_1 = age_out[age_out['visit_count'] >0]\n",
    "age_out_min_1.shape"
   ]
  },
  {
   "cell_type": "code",
   "execution_count": 52,
   "metadata": {},
   "outputs": [
    {
     "name": "stderr",
     "output_type": "stream",
     "text": [
      "C:\\Users\\patri\\AppData\\Local\\Temp\\ipykernel_19792\\1605984240.py:1: SettingWithCopyWarning: \n",
      "A value is trying to be set on a copy of a slice from a DataFrame.\n",
      "Try using .loc[row_indexer,col_indexer] = value instead\n",
      "\n",
      "See the caveats in the documentation: https://pandas.pydata.org/pandas-docs/stable/user_guide/indexing.html#returning-a-view-versus-a-copy\n",
      "  age_out_min_1['days_in_program'] = age_out_min_1['exit_date'] - age_out_min_1['referral_date']\n",
      "C:\\Users\\patri\\AppData\\Local\\Temp\\ipykernel_19792\\1605984240.py:2: SettingWithCopyWarning: \n",
      "A value is trying to be set on a copy of a slice from a DataFrame.\n",
      "Try using .loc[row_indexer,col_indexer] = value instead\n",
      "\n",
      "See the caveats in the documentation: https://pandas.pydata.org/pandas-docs/stable/user_guide/indexing.html#returning-a-view-versus-a-copy\n",
      "  age_out_min_1['visit_rate'] = age_out_min_1['days_in_program']/age_out_min_1['visit_count']\n",
      "C:\\Users\\patri\\AppData\\Local\\Temp\\ipykernel_19792\\1605984240.py:3: SettingWithCopyWarning: \n",
      "A value is trying to be set on a copy of a slice from a DataFrame.\n",
      "Try using .loc[row_indexer,col_indexer] = value instead\n",
      "\n",
      "See the caveats in the documentation: https://pandas.pydata.org/pandas-docs/stable/user_guide/indexing.html#returning-a-view-versus-a-copy\n",
      "  age_out_min_1['day_in_program_redux'] = (age_out_min_1['days_in_program']/ np.timedelta64(1, 'D')).astype(int)\n",
      "C:\\Users\\patri\\AppData\\Local\\Temp\\ipykernel_19792\\1605984240.py:4: SettingWithCopyWarning: \n",
      "A value is trying to be set on a copy of a slice from a DataFrame.\n",
      "Try using .loc[row_indexer,col_indexer] = value instead\n",
      "\n",
      "See the caveats in the documentation: https://pandas.pydata.org/pandas-docs/stable/user_guide/indexing.html#returning-a-view-versus-a-copy\n",
      "  age_out_min_1['visit_rate_redux'] = age_out_min_1['day_in_program_redux']/age_out_min_1['visit_count']\n"
     ]
    }
   ],
   "source": [
    "age_out_min_1['days_in_program'] = age_out_min_1['exit_date'] - age_out_min_1['referral_date']\n",
    "age_out_min_1['visit_rate'] = age_out_min_1['days_in_program']/age_out_min_1['visit_count']\n",
    "age_out_min_1['day_in_program_redux'] = (age_out_min_1['days_in_program']/ np.timedelta64(1, 'D')).astype(int)\n",
    "age_out_min_1['visit_rate_redux'] = age_out_min_1['day_in_program_redux']/age_out_min_1['visit_count']\n",
    "age_out_min_1 = age_out_min_1.drop(columns = ['days_in_program', 'visit_rate'], axis=0)"
   ]
  },
  {
   "cell_type": "code",
   "execution_count": 57,
   "metadata": {},
   "outputs": [
    {
     "name": "stderr",
     "output_type": "stream",
     "text": [
      "C:\\Users\\patri\\AppData\\Local\\Temp\\ipykernel_19792\\506271706.py:1: FutureWarning: The default value of numeric_only in DataFrameGroupBy.mean is deprecated. In a future version, numeric_only will default to False. Either specify numeric_only or select only columns which should be valid for the function.\n",
      "  age_out_min_1_avg = age_out_min_1.groupby('poe').mean().reset_index()\n"
     ]
    }
   ],
   "source": [
    "age_out_min_1_avg = age_out_min_1.groupby('poe').mean().reset_index()"
   ]
  },
  {
   "cell_type": "code",
   "execution_count": 58,
   "metadata": {},
   "outputs": [
    {
     "data": {
      "text/html": [
       "<div>\n",
       "<style scoped>\n",
       "    .dataframe tbody tr th:only-of-type {\n",
       "        vertical-align: middle;\n",
       "    }\n",
       "\n",
       "    .dataframe tbody tr th {\n",
       "        vertical-align: top;\n",
       "    }\n",
       "\n",
       "    .dataframe thead th {\n",
       "        text-align: right;\n",
       "    }\n",
       "</style>\n",
       "<table border=\"1\" class=\"dataframe\">\n",
       "  <thead>\n",
       "    <tr style=\"text-align: right;\">\n",
       "      <th></th>\n",
       "      <th>poe</th>\n",
       "      <th>child_id</th>\n",
       "      <th>visit_count</th>\n",
       "      <th>day_in_program_redux</th>\n",
       "      <th>visit_rate_redux</th>\n",
       "    </tr>\n",
       "  </thead>\n",
       "  <tbody>\n",
       "    <tr>\n",
       "      <th>0</th>\n",
       "      <td>ET</td>\n",
       "      <td>496727.961832</td>\n",
       "      <td>1.748092</td>\n",
       "      <td>537.623410</td>\n",
       "      <td>393.771011</td>\n",
       "    </tr>\n",
       "    <tr>\n",
       "      <th>1</th>\n",
       "      <td>FT</td>\n",
       "      <td>498990.591837</td>\n",
       "      <td>1.689796</td>\n",
       "      <td>524.979592</td>\n",
       "      <td>394.981380</td>\n",
       "    </tr>\n",
       "    <tr>\n",
       "      <th>2</th>\n",
       "      <td>GN</td>\n",
       "      <td>499105.220779</td>\n",
       "      <td>1.398268</td>\n",
       "      <td>506.740260</td>\n",
       "      <td>418.845887</td>\n",
       "    </tr>\n",
       "    <tr>\n",
       "      <th>3</th>\n",
       "      <td>MD</td>\n",
       "      <td>497107.111524</td>\n",
       "      <td>3.330855</td>\n",
       "      <td>551.702602</td>\n",
       "      <td>342.784561</td>\n",
       "    </tr>\n",
       "    <tr>\n",
       "      <th>4</th>\n",
       "      <td>NW</td>\n",
       "      <td>497500.818898</td>\n",
       "      <td>1.590551</td>\n",
       "      <td>532.283465</td>\n",
       "      <td>411.324541</td>\n",
       "    </tr>\n",
       "    <tr>\n",
       "      <th>5</th>\n",
       "      <td>SC</td>\n",
       "      <td>500472.131387</td>\n",
       "      <td>1.609489</td>\n",
       "      <td>499.313869</td>\n",
       "      <td>392.687635</td>\n",
       "    </tr>\n",
       "    <tr>\n",
       "      <th>6</th>\n",
       "      <td>SE</td>\n",
       "      <td>497022.132530</td>\n",
       "      <td>2.120482</td>\n",
       "      <td>516.084337</td>\n",
       "      <td>349.095973</td>\n",
       "    </tr>\n",
       "    <tr>\n",
       "      <th>7</th>\n",
       "      <td>SW</td>\n",
       "      <td>498448.785276</td>\n",
       "      <td>1.797546</td>\n",
       "      <td>493.950920</td>\n",
       "      <td>342.675521</td>\n",
       "    </tr>\n",
       "    <tr>\n",
       "      <th>8</th>\n",
       "      <td>UC</td>\n",
       "      <td>500978.627778</td>\n",
       "      <td>1.927778</td>\n",
       "      <td>490.444444</td>\n",
       "      <td>339.188810</td>\n",
       "    </tr>\n",
       "  </tbody>\n",
       "</table>\n",
       "</div>"
      ],
      "text/plain": [
       "  poe       child_id  visit_count  day_in_program_redux  visit_rate_redux\n",
       "0  ET  496727.961832     1.748092            537.623410        393.771011\n",
       "1  FT  498990.591837     1.689796            524.979592        394.981380\n",
       "2  GN  499105.220779     1.398268            506.740260        418.845887\n",
       "3  MD  497107.111524     3.330855            551.702602        342.784561\n",
       "4  NW  497500.818898     1.590551            532.283465        411.324541\n",
       "5  SC  500472.131387     1.609489            499.313869        392.687635\n",
       "6  SE  497022.132530     2.120482            516.084337        349.095973\n",
       "7  SW  498448.785276     1.797546            493.950920        342.675521\n",
       "8  UC  500978.627778     1.927778            490.444444        339.188810"
      ]
     },
     "execution_count": 58,
     "metadata": {},
     "output_type": "execute_result"
    }
   ],
   "source": [
    "age_out_min_1_avg"
   ]
  },
  {
   "cell_type": "code",
   "execution_count": 96,
   "metadata": {},
   "outputs": [
    {
     "data": {
      "text/plain": [
       "<Axes: xlabel='visit_rate_redux', ylabel='poe'>"
      ]
     },
     "execution_count": 96,
     "metadata": {},
     "output_type": "execute_result"
    },
    {
     "data": {
      "image/png": "[encoded data removed]",
      "text/plain": [
       "<Figure size 640x480 with 1 Axes>"
      ]
     },
     "metadata": {},
     "output_type": "display_data"
    }
   ],
   "source": [
    "sns.barplot(age_out_min_1_avg, \n",
    "            orient='h', x='visit_rate_redux', y='poe',\n",
    "            order = age_out_min_1_avg.sort_values('visit_rate_redux').poe)"
   ]
  },
  {
   "cell_type": "code",
   "execution_count": 95,
   "metadata": {},
   "outputs": [
    {
     "data": {
      "text/plain": [
       "<Axes: xlabel='poe', ylabel='visit_count'>"
      ]
     },
     "execution_count": 95,
     "metadata": {},
     "output_type": "execute_result"
    },
    {
     "data": {
      "image/png": "[encoded data removed]",
      "text/plain": [
       "<Figure size 640x480 with 1 Axes>"
      ]
     },
     "metadata": {},
     "output_type": "display_data"
    }
   ],
   "source": [
    "sns.barplot(age_out_min_1_avg, \n",
    "            orient='v', x='poe', y='visit_count', \n",
    "            order= age_out_min_1_avg.sort_values('visit_count', ascending=False).poe)"
   ]
  },
  {
   "cell_type": "code",
   "execution_count": 69,
   "metadata": {},
   "outputs": [],
   "source": [
    "intake_complete = intake_visit\n",
    "intake_complete['exit_date'] = intake_complete['exit_date'].fillna('2023-01-31')"
   ]
  },
  {
   "cell_type": "code",
   "execution_count": 70,
   "metadata": {},
   "outputs": [],
   "source": [
    "intake_complete['days_in_program'] = intake_complete['exit_date'] - intake_complete['referral_date']\n",
    "intake_complete['visit_rate'] = intake_complete['days_in_program']/intake_complete['visit_count']\n",
    "intake_complete['day_in_program_redux'] = (intake_complete['days_in_program']/ np.timedelta64(1, 'D')).astype(int)\n",
    "intake_complete['visit_rate_redux'] = intake_complete['day_in_program_redux']/intake_complete['visit_count']\n",
    "intake_complete = intake_complete.drop(columns = ['days_in_program', 'visit_rate'], axis=0)"
   ]
  },
  {
   "cell_type": "code",
   "execution_count": 86,
   "metadata": {},
   "outputs": [
    {
     "name": "stderr",
     "output_type": "stream",
     "text": [
      "C:\\Users\\patri\\AppData\\Local\\Temp\\ipykernel_19792\\885880866.py:1: FutureWarning: The default value of numeric_only in DataFrameGroupBy.mean is deprecated. In a future version, numeric_only will default to False. Either specify numeric_only or select only columns which should be valid for the function.\n",
      "  ic_0_mean = intake_complete[intake_complete['visit_count'] == 0].groupby('poe').mean().reset_index()\n"
     ]
    }
   ],
   "source": [
    "ic_0_mean = intake_complete[intake_complete['visit_count'] == 0].groupby('poe').mean().reset_index()"
   ]
  },
  {
   "cell_type": "code",
   "execution_count": 87,
   "metadata": {},
   "outputs": [
    {
     "data": {
      "text/html": [
       "<div>\n",
       "<style scoped>\n",
       "    .dataframe tbody tr th:only-of-type {\n",
       "        vertical-align: middle;\n",
       "    }\n",
       "\n",
       "    .dataframe tbody tr th {\n",
       "        vertical-align: top;\n",
       "    }\n",
       "\n",
       "    .dataframe thead th {\n",
       "        text-align: right;\n",
       "    }\n",
       "</style>\n",
       "<table border=\"1\" class=\"dataframe\">\n",
       "  <thead>\n",
       "    <tr style=\"text-align: right;\">\n",
       "      <th></th>\n",
       "      <th>poe</th>\n",
       "      <th>child_id</th>\n",
       "      <th>visit_count</th>\n",
       "      <th>day_in_program_redux</th>\n",
       "      <th>visit_rate_redux</th>\n",
       "    </tr>\n",
       "  </thead>\n",
       "  <tbody>\n",
       "    <tr>\n",
       "      <th>0</th>\n",
       "      <td>ET</td>\n",
       "      <td>510898.799072</td>\n",
       "      <td>0.0</td>\n",
       "      <td>394.641055</td>\n",
       "      <td>NaN</td>\n",
       "    </tr>\n",
       "    <tr>\n",
       "      <th>1</th>\n",
       "      <td>FT</td>\n",
       "      <td>510432.592960</td>\n",
       "      <td>0.0</td>\n",
       "      <td>408.659395</td>\n",
       "      <td>NaN</td>\n",
       "    </tr>\n",
       "    <tr>\n",
       "      <th>2</th>\n",
       "      <td>GN</td>\n",
       "      <td>511869.468080</td>\n",
       "      <td>0.0</td>\n",
       "      <td>390.901710</td>\n",
       "      <td>NaN</td>\n",
       "    </tr>\n",
       "    <tr>\n",
       "      <th>3</th>\n",
       "      <td>MD</td>\n",
       "      <td>512784.051439</td>\n",
       "      <td>0.0</td>\n",
       "      <td>366.463870</td>\n",
       "      <td>NaN</td>\n",
       "    </tr>\n",
       "    <tr>\n",
       "      <th>4</th>\n",
       "      <td>NW</td>\n",
       "      <td>512788.618257</td>\n",
       "      <td>0.0</td>\n",
       "      <td>371.438797</td>\n",
       "      <td>NaN</td>\n",
       "    </tr>\n",
       "    <tr>\n",
       "      <th>5</th>\n",
       "      <td>SC</td>\n",
       "      <td>511195.184990</td>\n",
       "      <td>0.0</td>\n",
       "      <td>403.541777</td>\n",
       "      <td>NaN</td>\n",
       "    </tr>\n",
       "    <tr>\n",
       "      <th>6</th>\n",
       "      <td>SE</td>\n",
       "      <td>511446.796524</td>\n",
       "      <td>0.0</td>\n",
       "      <td>383.236061</td>\n",
       "      <td>NaN</td>\n",
       "    </tr>\n",
       "    <tr>\n",
       "      <th>7</th>\n",
       "      <td>SW</td>\n",
       "      <td>513216.912731</td>\n",
       "      <td>0.0</td>\n",
       "      <td>363.579055</td>\n",
       "      <td>NaN</td>\n",
       "    </tr>\n",
       "    <tr>\n",
       "      <th>8</th>\n",
       "      <td>UC</td>\n",
       "      <td>511119.291923</td>\n",
       "      <td>0.0</td>\n",
       "      <td>402.448748</td>\n",
       "      <td>NaN</td>\n",
       "    </tr>\n",
       "  </tbody>\n",
       "</table>\n",
       "</div>"
      ],
      "text/plain": [
       "  poe       child_id  visit_count  day_in_program_redux  visit_rate_redux\n",
       "0  ET  510898.799072          0.0            394.641055               NaN\n",
       "1  FT  510432.592960          0.0            408.659395               NaN\n",
       "2  GN  511869.468080          0.0            390.901710               NaN\n",
       "3  MD  512784.051439          0.0            366.463870               NaN\n",
       "4  NW  512788.618257          0.0            371.438797               NaN\n",
       "5  SC  511195.184990          0.0            403.541777               NaN\n",
       "6  SE  511446.796524          0.0            383.236061               NaN\n",
       "7  SW  513216.912731          0.0            363.579055               NaN\n",
       "8  UC  511119.291923          0.0            402.448748               NaN"
      ]
     },
     "execution_count": 87,
     "metadata": {},
     "output_type": "execute_result"
    }
   ],
   "source": [
    "ic_0_mean"
   ]
  },
  {
   "cell_type": "code",
   "execution_count": 79,
   "metadata": {},
   "outputs": [
    {
     "data": {
      "text/plain": [
       "<Axes: xlabel='day_in_program_redux', ylabel='poe'>"
      ]
     },
     "execution_count": 79,
     "metadata": {},
     "output_type": "execute_result"
    },
    {
     "data": {
      "image/png": "[encoded data removed]",
      "text/plain": [
       "<Figure size 640x480 with 1 Axes>"
      ]
     },
     "metadata": {},
     "output_type": "display_data"
    }
   ],
   "source": [
    "sns.barplot(ic_0_mean, orient='h', y='poe', x='day_in_program_redux')"
   ]
  },
  {
   "cell_type": "code",
   "execution_count": 80,
   "metadata": {},
   "outputs": [
    {
     "name": "stderr",
     "output_type": "stream",
     "text": [
      "C:\\Users\\patri\\AppData\\Local\\Temp\\ipykernel_19792\\2611210609.py:1: FutureWarning: The default value of numeric_only in DataFrameGroupBy.mean is deprecated. In a future version, numeric_only will default to False. Either specify numeric_only or select only columns which should be valid for the function.\n",
      "  ic_min_1_mean = intake_complete[intake_complete['visit_count'] > 0].groupby('poe').mean().reset_index()\n"
     ]
    }
   ],
   "source": [
    "ic_min_1_mean = intake_complete[intake_complete['visit_count'] > 0].groupby('poe').mean().reset_index()"
   ]
  },
  {
   "cell_type": "code",
   "execution_count": 83,
   "metadata": {},
   "outputs": [
    {
     "data": {
      "text/html": [
       "<div>\n",
       "<style scoped>\n",
       "    .dataframe tbody tr th:only-of-type {\n",
       "        vertical-align: middle;\n",
       "    }\n",
       "\n",
       "    .dataframe tbody tr th {\n",
       "        vertical-align: top;\n",
       "    }\n",
       "\n",
       "    .dataframe thead th {\n",
       "        text-align: right;\n",
       "    }\n",
       "</style>\n",
       "<table border=\"1\" class=\"dataframe\">\n",
       "  <thead>\n",
       "    <tr style=\"text-align: right;\">\n",
       "      <th></th>\n",
       "      <th>poe</th>\n",
       "      <th>child_id</th>\n",
       "      <th>visit_count</th>\n",
       "      <th>day_in_program_redux</th>\n",
       "      <th>visit_rate_redux</th>\n",
       "    </tr>\n",
       "  </thead>\n",
       "  <tbody>\n",
       "    <tr>\n",
       "      <th>0</th>\n",
       "      <td>ET</td>\n",
       "      <td>503420.046460</td>\n",
       "      <td>1.778024</td>\n",
       "      <td>555.404867</td>\n",
       "      <td>399.327453</td>\n",
       "    </tr>\n",
       "    <tr>\n",
       "      <th>1</th>\n",
       "      <td>FT</td>\n",
       "      <td>504839.538077</td>\n",
       "      <td>1.827715</td>\n",
       "      <td>534.588015</td>\n",
       "      <td>388.466506</td>\n",
       "    </tr>\n",
       "    <tr>\n",
       "      <th>2</th>\n",
       "      <td>GN</td>\n",
       "      <td>505049.308550</td>\n",
       "      <td>1.454771</td>\n",
       "      <td>533.584882</td>\n",
       "      <td>434.834424</td>\n",
       "    </tr>\n",
       "    <tr>\n",
       "      <th>3</th>\n",
       "      <td>MD</td>\n",
       "      <td>502080.750611</td>\n",
       "      <td>3.239609</td>\n",
       "      <td>582.317848</td>\n",
       "      <td>366.862372</td>\n",
       "    </tr>\n",
       "    <tr>\n",
       "      <th>4</th>\n",
       "      <td>NW</td>\n",
       "      <td>502405.517711</td>\n",
       "      <td>1.550409</td>\n",
       "      <td>558.580381</td>\n",
       "      <td>433.170512</td>\n",
       "    </tr>\n",
       "    <tr>\n",
       "      <th>5</th>\n",
       "      <td>SC</td>\n",
       "      <td>504735.370661</td>\n",
       "      <td>1.660694</td>\n",
       "      <td>537.381859</td>\n",
       "      <td>415.361834</td>\n",
       "    </tr>\n",
       "    <tr>\n",
       "      <th>6</th>\n",
       "      <td>SE</td>\n",
       "      <td>503183.007752</td>\n",
       "      <td>2.312661</td>\n",
       "      <td>544.736434</td>\n",
       "      <td>353.306250</td>\n",
       "    </tr>\n",
       "    <tr>\n",
       "      <th>7</th>\n",
       "      <td>SW</td>\n",
       "      <td>504397.157171</td>\n",
       "      <td>1.946955</td>\n",
       "      <td>524.231827</td>\n",
       "      <td>356.805298</td>\n",
       "    </tr>\n",
       "    <tr>\n",
       "      <th>8</th>\n",
       "      <td>UC</td>\n",
       "      <td>505605.058431</td>\n",
       "      <td>1.959933</td>\n",
       "      <td>527.358932</td>\n",
       "      <td>369.420496</td>\n",
       "    </tr>\n",
       "  </tbody>\n",
       "</table>\n",
       "</div>"
      ],
      "text/plain": [
       "  poe       child_id  visit_count  day_in_program_redux  visit_rate_redux\n",
       "0  ET  503420.046460     1.778024            555.404867        399.327453\n",
       "1  FT  504839.538077     1.827715            534.588015        388.466506\n",
       "2  GN  505049.308550     1.454771            533.584882        434.834424\n",
       "3  MD  502080.750611     3.239609            582.317848        366.862372\n",
       "4  NW  502405.517711     1.550409            558.580381        433.170512\n",
       "5  SC  504735.370661     1.660694            537.381859        415.361834\n",
       "6  SE  503183.007752     2.312661            544.736434        353.306250\n",
       "7  SW  504397.157171     1.946955            524.231827        356.805298\n",
       "8  UC  505605.058431     1.959933            527.358932        369.420496"
      ]
     },
     "execution_count": 83,
     "metadata": {},
     "output_type": "execute_result"
    }
   ],
   "source": [
    "ic_min_1_mean"
   ]
  },
  {
   "cell_type": "code",
   "execution_count": 81,
   "metadata": {},
   "outputs": [
    {
     "data": {
      "text/plain": [
       "<Axes: xlabel='day_in_program_redux', ylabel='poe'>"
      ]
     },
     "execution_count": 81,
     "metadata": {},
     "output_type": "execute_result"
    },
    {
     "data": {
      "image/png": "[encoded data removed]",
      "text/plain": [
       "<Figure size 640x480 with 1 Axes>"
      ]
     },
     "metadata": {},
     "output_type": "display_data"
    }
   ],
   "source": [
    "sns.barplot(ic_min_1_mean, orient='h', y='poe', x='day_in_program_redux')"
   ]
  },
  {
   "cell_type": "code",
   "execution_count": 82,
   "metadata": {},
   "outputs": [
    {
     "data": {
      "text/plain": [
       "<Axes: xlabel='visit_rate_redux', ylabel='poe'>"
      ]
     },
     "execution_count": 82,
     "metadata": {},
     "output_type": "execute_result"
    },
    {
     "data": {
      "image/png": "[encoded data removed]",
      "text/plain": [
       "<Figure size 640x480 with 1 Axes>"
      ]
     },
     "metadata": {},
     "output_type": "display_data"
    }
   ],
   "source": [
    "sns.barplot(ic_min_1_mean, orient='h', y='poe', x='visit_rate_redux')"
   ]
  },
  {
   "cell_type": "code",
   "execution_count": null,
   "metadata": {},
   "outputs": [],
   "source": []
  }
 ],
 "metadata": {
  "kernelspec": {
   "display_name": "base",
   "language": "python",
   "name": "python3"
  },
  "language_info": {
   "codemirror_mode": {
    "name": "ipython",
    "version": 3
   },
   "file_extension": ".py",
   "mimetype": "text/x-python",
   "name": "python",
   "nbconvert_exporter": "python",
   "pygments_lexer": "ipython3",
   "version": "3.10.9"
  },
  "orig_nbformat": 4
 },
 "nbformat": 4,
 "nbformat_minor": 2
}
